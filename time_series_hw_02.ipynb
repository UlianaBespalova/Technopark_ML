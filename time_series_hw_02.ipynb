{
 "cells": [
  {
   "cell_type": "code",
   "execution_count": 1,
   "metadata": {},
   "outputs": [],
   "source": [
    "import torch\n",
    "import torch.nn as nn\n",
    "from torch.optim import Adam\n",
    "from torch.utils.data import DataLoader, Dataset\n",
    "from torch.utils.tensorboard import SummaryWriter\n",
    "import pandas as pd\n",
    "import os\n",
    "from tqdm import *\n",
    "import matplotlib.pyplot as plt\n",
    "from sklearn.metrics import mean_squared_error\n",
    "import pmdarima as pm\n",
    "import numpy as np\n",
    "%matplotlib inline"
   ]
  },
  {
   "cell_type": "markdown",
   "metadata": {},
   "source": [
    "## Готовим данные"
   ]
  },
  {
   "cell_type": "code",
   "execution_count": 2,
   "metadata": {},
   "outputs": [],
   "source": [
    "def read_set(file):\n",
    "    data = pd.read_csv(file)\n",
    "    data['date'] = pd.to_datetime(data['date'])\n",
    "    data = data.rename(columns = {'DATE':'date'})\n",
    "    data = data.rename(columns = {'hits':'value'})\n",
    "    data = data.set_index('date')\n",
    "    return data"
   ]
  },
  {
   "cell_type": "code",
   "execution_count": 3,
   "metadata": {},
   "outputs": [],
   "source": [
    "data_train = read_set('train.csv')\n",
    "data_test =  read_set('derived.csv')\n",
    "data_sample = read_set('sample_submission.csv')"
   ]
  },
  {
   "cell_type": "code",
   "execution_count": 4,
   "metadata": {},
   "outputs": [
    {
     "name": "stdout",
     "output_type": "stream",
     "text": [
      "<class 'pandas.core.frame.DataFrame'>\n",
      "DatetimeIndex: 1096 entries, 2016-01-01 to 2018-12-31\n",
      "Data columns (total 1 columns):\n",
      " #   Column  Non-Null Count  Dtype\n",
      "---  ------  --------------  -----\n",
      " 0   value   1096 non-null   int64\n",
      "dtypes: int64(1)\n",
      "memory usage: 17.1 KB\n",
      "None\n",
      "<class 'pandas.core.frame.DataFrame'>\n",
      "DatetimeIndex: 365 entries, 2019-01-01 to 2019-12-31\n",
      "Data columns (total 1 columns):\n",
      " #   Column  Non-Null Count  Dtype\n",
      "---  ------  --------------  -----\n",
      " 0   value   365 non-null    int64\n",
      "dtypes: int64(1)\n",
      "memory usage: 5.7 KB\n",
      "None\n",
      "<class 'pandas.core.frame.DataFrame'>\n",
      "DatetimeIndex: 365 entries, 2019-01-01 to 2019-12-31\n",
      "Data columns (total 1 columns):\n",
      " #   Column  Non-Null Count  Dtype\n",
      "---  ------  --------------  -----\n",
      " 0   value   365 non-null    int64\n",
      "dtypes: int64(1)\n",
      "memory usage: 5.7 KB\n",
      "None\n"
     ]
    }
   ],
   "source": [
    "print( data_train.info() )\n",
    "print( data_test.info() )\n",
    "print( data_sample.info() )"
   ]
  },
  {
   "cell_type": "code",
   "execution_count": 5,
   "metadata": {},
   "outputs": [
    {
     "data": {
      "text/html": [
       "<div>\n",
       "<style scoped>\n",
       "    .dataframe tbody tr th:only-of-type {\n",
       "        vertical-align: middle;\n",
       "    }\n",
       "\n",
       "    .dataframe tbody tr th {\n",
       "        vertical-align: top;\n",
       "    }\n",
       "\n",
       "    .dataframe thead th {\n",
       "        text-align: right;\n",
       "    }\n",
       "</style>\n",
       "<table border=\"1\" class=\"dataframe\">\n",
       "  <thead>\n",
       "    <tr style=\"text-align: right;\">\n",
       "      <th></th>\n",
       "      <th>value</th>\n",
       "    </tr>\n",
       "  </thead>\n",
       "  <tbody>\n",
       "    <tr>\n",
       "      <th>count</th>\n",
       "      <td>1.096000e+03</td>\n",
       "    </tr>\n",
       "    <tr>\n",
       "      <th>mean</th>\n",
       "      <td>2.792255e+08</td>\n",
       "    </tr>\n",
       "    <tr>\n",
       "      <th>std</th>\n",
       "      <td>7.677884e+07</td>\n",
       "    </tr>\n",
       "    <tr>\n",
       "      <th>min</th>\n",
       "      <td>1.103556e+08</td>\n",
       "    </tr>\n",
       "    <tr>\n",
       "      <th>25%</th>\n",
       "      <td>2.317301e+08</td>\n",
       "    </tr>\n",
       "    <tr>\n",
       "      <th>50%</th>\n",
       "      <td>2.791131e+08</td>\n",
       "    </tr>\n",
       "    <tr>\n",
       "      <th>75%</th>\n",
       "      <td>3.287730e+08</td>\n",
       "    </tr>\n",
       "    <tr>\n",
       "      <th>max</th>\n",
       "      <td>4.550733e+08</td>\n",
       "    </tr>\n",
       "  </tbody>\n",
       "</table>\n",
       "</div>"
      ],
      "text/plain": [
       "              value\n",
       "count  1.096000e+03\n",
       "mean   2.792255e+08\n",
       "std    7.677884e+07\n",
       "min    1.103556e+08\n",
       "25%    2.317301e+08\n",
       "50%    2.791131e+08\n",
       "75%    3.287730e+08\n",
       "max    4.550733e+08"
      ]
     },
     "execution_count": 5,
     "metadata": {},
     "output_type": "execute_result"
    }
   ],
   "source": [
    "data_train.describe()"
   ]
  },
  {
   "cell_type": "code",
   "execution_count": 6,
   "metadata": {},
   "outputs": [
    {
     "data": {
      "text/html": [
       "<div>\n",
       "<style scoped>\n",
       "    .dataframe tbody tr th:only-of-type {\n",
       "        vertical-align: middle;\n",
       "    }\n",
       "\n",
       "    .dataframe tbody tr th {\n",
       "        vertical-align: top;\n",
       "    }\n",
       "\n",
       "    .dataframe thead th {\n",
       "        text-align: right;\n",
       "    }\n",
       "</style>\n",
       "<table border=\"1\" class=\"dataframe\">\n",
       "  <thead>\n",
       "    <tr style=\"text-align: right;\">\n",
       "      <th></th>\n",
       "      <th>value</th>\n",
       "    </tr>\n",
       "  </thead>\n",
       "  <tbody>\n",
       "    <tr>\n",
       "      <th>count</th>\n",
       "      <td>3.650000e+02</td>\n",
       "    </tr>\n",
       "    <tr>\n",
       "      <th>mean</th>\n",
       "      <td>2.250691e+08</td>\n",
       "    </tr>\n",
       "    <tr>\n",
       "      <th>std</th>\n",
       "      <td>6.798229e+07</td>\n",
       "    </tr>\n",
       "    <tr>\n",
       "      <th>min</th>\n",
       "      <td>1.055197e+08</td>\n",
       "    </tr>\n",
       "    <tr>\n",
       "      <th>25%</th>\n",
       "      <td>1.467913e+08</td>\n",
       "    </tr>\n",
       "    <tr>\n",
       "      <th>50%</th>\n",
       "      <td>2.525773e+08</td>\n",
       "    </tr>\n",
       "    <tr>\n",
       "      <th>75%</th>\n",
       "      <td>2.724223e+08</td>\n",
       "    </tr>\n",
       "    <tr>\n",
       "      <th>max</th>\n",
       "      <td>3.410300e+08</td>\n",
       "    </tr>\n",
       "  </tbody>\n",
       "</table>\n",
       "</div>"
      ],
      "text/plain": [
       "              value\n",
       "count  3.650000e+02\n",
       "mean   2.250691e+08\n",
       "std    6.798229e+07\n",
       "min    1.055197e+08\n",
       "25%    1.467913e+08\n",
       "50%    2.525773e+08\n",
       "75%    2.724223e+08\n",
       "max    3.410300e+08"
      ]
     },
     "execution_count": 6,
     "metadata": {},
     "output_type": "execute_result"
    }
   ],
   "source": [
    "data_test.describe()"
   ]
  },
  {
   "cell_type": "code",
   "execution_count": 7,
   "metadata": {},
   "outputs": [
    {
     "data": {
      "text/html": [
       "<div>\n",
       "<style scoped>\n",
       "    .dataframe tbody tr th:only-of-type {\n",
       "        vertical-align: middle;\n",
       "    }\n",
       "\n",
       "    .dataframe tbody tr th {\n",
       "        vertical-align: top;\n",
       "    }\n",
       "\n",
       "    .dataframe thead th {\n",
       "        text-align: right;\n",
       "    }\n",
       "</style>\n",
       "<table border=\"1\" class=\"dataframe\">\n",
       "  <thead>\n",
       "    <tr style=\"text-align: right;\">\n",
       "      <th></th>\n",
       "      <th>value</th>\n",
       "    </tr>\n",
       "  </thead>\n",
       "  <tbody>\n",
       "    <tr>\n",
       "      <th>count</th>\n",
       "      <td>365.0</td>\n",
       "    </tr>\n",
       "    <tr>\n",
       "      <th>mean</th>\n",
       "      <td>110355560.0</td>\n",
       "    </tr>\n",
       "    <tr>\n",
       "      <th>std</th>\n",
       "      <td>0.0</td>\n",
       "    </tr>\n",
       "    <tr>\n",
       "      <th>min</th>\n",
       "      <td>110355560.0</td>\n",
       "    </tr>\n",
       "    <tr>\n",
       "      <th>25%</th>\n",
       "      <td>110355560.0</td>\n",
       "    </tr>\n",
       "    <tr>\n",
       "      <th>50%</th>\n",
       "      <td>110355560.0</td>\n",
       "    </tr>\n",
       "    <tr>\n",
       "      <th>75%</th>\n",
       "      <td>110355560.0</td>\n",
       "    </tr>\n",
       "    <tr>\n",
       "      <th>max</th>\n",
       "      <td>110355560.0</td>\n",
       "    </tr>\n",
       "  </tbody>\n",
       "</table>\n",
       "</div>"
      ],
      "text/plain": [
       "             value\n",
       "count        365.0\n",
       "mean   110355560.0\n",
       "std            0.0\n",
       "min    110355560.0\n",
       "25%    110355560.0\n",
       "50%    110355560.0\n",
       "75%    110355560.0\n",
       "max    110355560.0"
      ]
     },
     "execution_count": 7,
     "metadata": {},
     "output_type": "execute_result"
    }
   ],
   "source": [
    "data_sample.describe()"
   ]
  },
  {
   "cell_type": "code",
   "execution_count": 8,
   "metadata": {},
   "outputs": [
    {
     "data": {
      "image/png": "[encoded data removed]",
      "text/plain": [
       "<Figure size 432x288 with 1 Axes>"
      ]
     },
     "metadata": {
      "needs_background": "light"
     },
     "output_type": "display_data"
    }
   ],
   "source": [
    "plt.figure()\n",
    "data_train['value'].plot(kind = 'line')\n",
    "data_test['value'].plot(kind = 'line')\n",
    "data_sample['value'].plot(kind = 'line')\n",
    "plt.show()"
   ]
  },
  {
   "cell_type": "code",
   "execution_count": 323,
   "metadata": {},
   "outputs": [
    {
     "name": "stdout",
     "output_type": "stream",
     "text": [
      "Performing stepwise search to minimize aic\n",
      " ARIMA(2,0,2)(1,0,1)[4] intercept   : AIC=42026.193, Time=1.40 sec\n",
      " ARIMA(0,0,0)(0,0,0)[4] intercept   : AIC=42912.228, Time=0.03 sec\n",
      " ARIMA(1,0,0)(1,0,0)[4] intercept   : AIC=42352.663, Time=0.67 sec\n",
      " ARIMA(0,0,1)(0,0,1)[4] intercept   : AIC=42271.764, Time=0.23 sec\n",
      " ARIMA(0,0,0)(0,0,0)[4]             : AIC=45821.113, Time=0.02 sec\n",
      " ARIMA(2,0,2)(0,0,1)[4] intercept   : AIC=42138.118, Time=0.63 sec\n",
      " ARIMA(2,0,2)(1,0,0)[4] intercept   : AIC=42130.455, Time=1.46 sec\n",
      " ARIMA(2,0,2)(2,0,1)[4] intercept   : AIC=41842.461, Time=2.41 sec\n",
      " ARIMA(2,0,2)(2,0,0)[4] intercept   : AIC=42088.125, Time=1.81 sec\n",
      " ARIMA(2,0,2)(2,0,2)[4] intercept   : AIC=41829.133, Time=3.41 sec\n",
      " ARIMA(2,0,2)(1,0,2)[4] intercept   : AIC=42095.534, Time=3.21 sec\n",
      " ARIMA(1,0,2)(2,0,2)[4] intercept   : AIC=42117.810, Time=2.35 sec\n",
      " ARIMA(2,0,1)(2,0,2)[4] intercept   : AIC=42107.831, Time=2.14 sec\n",
      " ARIMA(3,0,2)(2,0,2)[4] intercept   : AIC=41841.291, Time=4.46 sec\n",
      " ARIMA(2,0,3)(2,0,2)[4] intercept   : AIC=41543.028, Time=4.31 sec\n",
      " ARIMA(2,0,3)(1,0,2)[4] intercept   : AIC=41633.640, Time=4.14 sec\n",
      " ARIMA(2,0,3)(2,0,1)[4] intercept   : AIC=41536.185, Time=3.92 sec\n",
      " ARIMA(2,0,3)(1,0,1)[4] intercept   : AIC=41537.817, Time=3.32 sec\n",
      " ARIMA(2,0,3)(2,0,0)[4] intercept   : AIC=41564.667, Time=3.10 sec\n",
      " ARIMA(2,0,3)(1,0,0)[4] intercept   : AIC=41592.292, Time=2.37 sec\n",
      " ARIMA(1,0,3)(2,0,1)[4] intercept   : AIC=42079.018, Time=3.10 sec\n",
      " ARIMA(3,0,3)(2,0,1)[4] intercept   : AIC=41428.778, Time=3.84 sec\n",
      " ARIMA(3,0,3)(1,0,1)[4] intercept   : AIC=inf, Time=3.05 sec\n",
      " ARIMA(3,0,3)(2,0,0)[4] intercept   : AIC=inf, Time=3.72 sec\n",
      " ARIMA(3,0,3)(2,0,2)[4] intercept   : AIC=41350.283, Time=4.46 sec\n",
      " ARIMA(3,0,3)(1,0,2)[4] intercept   : AIC=41716.127, Time=3.71 sec\n",
      " ARIMA(3,0,3)(2,0,2)[4]             : AIC=inf, Time=4.24 sec\n",
      "\n",
      "Best model:  ARIMA(3,0,3)(2,0,2)[4] intercept\n",
      "Total fit time: 71.559 seconds\n"
     ]
    }
   ],
   "source": [
    "arima_model=model = pm.auto_arima(data_train, seasonal = True,m = 4,test='adf',error_action='ignore',  \n",
    "                           suppress_warnings=True,\n",
    "                      stepwise=True, trace=True)"
   ]
  },
  {
   "cell_type": "code",
   "execution_count": 324,
   "metadata": {},
   "outputs": [],
   "source": [
    "prediction = pd.DataFrame(model.predict(n_periods = int(data_test.size)), data_test.index)"
   ]
  },
  {
   "cell_type": "code",
   "execution_count": 325,
   "metadata": {},
   "outputs": [],
   "source": [
    "prediction = prediction .rename(columns = {0:'value'})"
   ]
  },
  {
   "cell_type": "code",
   "execution_count": 326,
   "metadata": {},
   "outputs": [
    {
     "data": {
      "image/png": "[encoded data removed]",
      "text/plain": [
       "<Figure size 432x288 with 1 Axes>"
      ]
     },
     "metadata": {
      "needs_background": "light"
     },
     "output_type": "display_data"
    }
   ],
   "source": [
    "plt.figure()\n",
    "data_train['value'].plot(kind = 'line')\n",
    "data_test['value'].plot(kind = 'line')\n",
    "#plt.plot(data_forecaste, label = \"Prediction\")\n",
    "prediction['value'].plot(kind = 'line')\n",
    "plt.show()"
   ]
  },
  {
   "cell_type": "code",
   "execution_count": 327,
   "metadata": {},
   "outputs": [],
   "source": [
    "def MAPE(y_true, y_pred):\n",
    "    mape = np.abs(y_pred - y_true) / np.maximum(np.abs(y_true), 1e-6)\n",
    "    mape  = np.average(mape) * 100\n",
    "    return mape"
   ]
  },
  {
   "cell_type": "code",
   "execution_count": 328,
   "metadata": {},
   "outputs": [
    {
     "data": {
      "text/plain": [
       "39.83962687349625"
      ]
     },
     "execution_count": 328,
     "metadata": {},
     "output_type": "execute_result"
    }
   ],
   "source": [
    "MAPE(data_test, prediction)"
   ]
  },
  {
   "cell_type": "code",
   "execution_count": 15,
   "metadata": {},
   "outputs": [
    {
     "data": {
      "text/plain": [
       "44.81735178659308"
      ]
     },
     "execution_count": 15,
     "metadata": {},
     "output_type": "execute_result"
    }
   ],
   "source": [
    "MAPE(data_test, data_sample)"
   ]
  },
  {
   "cell_type": "code",
   "execution_count": 16,
   "metadata": {},
   "outputs": [],
   "source": [
    "m = np.mean(data_train)\n",
    "std = np.std(data_train)"
   ]
  },
  {
   "cell_type": "code",
   "execution_count": 17,
   "metadata": {},
   "outputs": [
    {
     "data": {
      "text/plain": [
       "value   -5.186443e-17\n",
       "dtype: float64"
      ]
     },
     "execution_count": 17,
     "metadata": {},
     "output_type": "execute_result"
    }
   ],
   "source": [
    "np.mean( (data_train - m)/std)"
   ]
  },
  {
   "cell_type": "code",
   "execution_count": 350,
   "metadata": {},
   "outputs": [],
   "source": [
    "class Stats:\n",
    "    def __init__(self, dataset):\n",
    "        self.mean = np.mean(dataset)\n",
    "        self.std = np.std(dataset)\n",
    "        self.data = (dataset - self.mean) / self.std \n",
    "\n",
    "stats = Stats(data_train)"
   ]
  },
  {
   "cell_type": "code",
   "execution_count": 351,
   "metadata": {},
   "outputs": [],
   "source": [
    "class TSDataset(Dataset):\n",
    "    \n",
    "    def __init__(self, data, seq_len):\n",
    "        super().__init__()\n",
    "        self._len = len(data) - seq_len + 1\n",
    "        self.mean = stats.mean\n",
    "        self.std = stats.std\n",
    "        self.data = (data- self.mean) / self.std \n",
    "        self.seq_len = seq_len\n",
    "        \n",
    "    def __len__(self):\n",
    "        return self._len\n",
    "    \n",
    "    def __getitem__(self, idx):\n",
    "        d = self.data[idx:idx + self.seq_len]\n",
    "        targets = []\n",
    "        days   = []\n",
    "        months = []\n",
    "        year = []\n",
    "        for row in  d.iterrows():\n",
    "            targets += [ row[1]['value'] ]\n",
    "            days += [ row[0].day ]\n",
    "            months += [row[0].month]\n",
    "            year += [row[0].year]\n",
    "            \n",
    "        return torch.LongTensor(days), \\\n",
    "               torch.LongTensor(months), \\\n",
    "               torch.LongTensor(year), \\\n",
    "               torch.FloatTensor(targets)"
   ]
  },
  {
   "cell_type": "code",
   "execution_count": 352,
   "metadata": {},
   "outputs": [
    {
     "name": "stdout",
     "output_type": "stream",
     "text": [
      "1077\n"
     ]
    },
    {
     "data": {
      "text/plain": [
       "(tensor([ 1,  2,  3,  4,  5,  6,  7,  8,  9, 10, 11, 12, 13, 14, 15, 16, 17, 18,\n",
       "         19, 20]),\n",
       " tensor([1, 1, 1, 1, 1, 1, 1, 1, 1, 1, 1, 1, 1, 1, 1, 1, 1, 1, 1, 1]),\n",
       " tensor([2016, 2016, 2016, 2016, 2016, 2016, 2016, 2016, 2016, 2016, 2016, 2016,\n",
       "         2016, 2016, 2016, 2016, 2016, 2016, 2016, 2016]),\n",
       " tensor([-1.0065, -0.7314, -0.5920, -0.2546, -0.1578, -0.3006, -0.4851, -0.1874,\n",
       "         -0.3834, -0.2773,  1.3411,  1.4629,  1.3422,  1.4359,  1.2755, -0.0412,\n",
       "          0.0043,  1.8220,  1.6542,  1.6893]))"
      ]
     },
     "execution_count": 352,
     "metadata": {},
     "output_type": "execute_result"
    }
   ],
   "source": [
    "ds_train = TSDataset(data_train, 20) \n",
    "ds_test  = TSDataset(data_test, 20)\n",
    "print(len(ds_train))\n",
    "for idx in range(0, len(ds_train)):\n",
    "    d = ds_train[idx]\n",
    "    break\n",
    "d\n",
    "#for s in  d.iterrows():\n",
    "#    print ( s[0].day)"
   ]
  },
  {
   "cell_type": "code",
   "execution_count": 353,
   "metadata": {},
   "outputs": [],
   "source": [
    "class TimeSeriesModel(nn.Module):\n",
    "    \n",
    "        def __init__(self, hidden_size: int, input_sizes: tuple):            \n",
    "            super().__init__()\n",
    "            self.mon_emb = nn.Embedding(12+1, input_sizes[0])\n",
    "            self.day_emb = nn.Embedding(31+1, input_sizes[1])\n",
    "            self._rnn = nn.LSTM(input_sizes[0] + input_sizes[1]+1,  hidden_size,  batch_first=True)\n",
    "            self._output = nn.Linear(hidden_size, 1)\n",
    "            \n",
    "        def forward(self, batch, ctx = None):\n",
    "            days, mons, _, targets = batch\n",
    "            mon_tensor = self.mon_emb(mons)\n",
    "            day_tensor = self.day_emb(days)\n",
    "            rnn_input  = torch.cat([mon_tensor, day_tensor], dim=-1)\n",
    "            targets = targets.unsqueeze(-1)\n",
    "            rnn_input = torch.cat([rnn_input, targets ], dim=-1)\n",
    "            rnn_input = rnn_input[:, :-1, :] if ctx is None else rnn_input \n",
    "            output, ctx = self._rnn(rnn_input, ctx)\n",
    "            output = self._output(output).squeeze()\n",
    "                \n",
    "            return output, ctx\n",
    "        \n",
    "        def _incremental_forward(self, rnn_input, prev_value: torch.FloatTensor, ctx):\n",
    "            T = rnn_input.shape[1]\n",
    "            cur_input =  rnn_input[:, :1, :]\n",
    "            cur_ctx = ctx\n",
    "            rnn_output =  []\n",
    "            for t in range(T):\n",
    "                cur_input = torch.cat( [ cur_input , prev_value ], dim=-1)\n",
    "                prev_value, cur_ctx = self._rnn(cur_input)\n",
    "                prev_value = self._output(prev_value)\n",
    "                rnn_output += [prev_value]\n",
    "            \n",
    "            output = torch.cat(rnn_output, dim=1)\n",
    "            return output.squeeze(), cur_ctx"
   ]
  },
  {
   "cell_type": "code",
   "execution_count": 354,
   "metadata": {},
   "outputs": [],
   "source": [
    "dl_train = DataLoader(ds_train, 8 , True)\n",
    "dl_test = DataLoader(ds_test, 8 , False)"
   ]
  },
  {
   "cell_type": "code",
   "execution_count": 334,
   "metadata": {},
   "outputs": [],
   "source": [
    "series_model = TimeSeriesModel(32, (4,4))"
   ]
  },
  {
   "cell_type": "code",
   "execution_count": 335,
   "metadata": {},
   "outputs": [],
   "source": [
    "loss = nn.L1Loss()\n",
    "optimizer = Adam(series_model.parameters(), lr=1e-4)"
   ]
  },
  {
   "cell_type": "code",
   "execution_count": 336,
   "metadata": {},
   "outputs": [],
   "source": [
    "# инициализируем тензорборд, для вывода графиков\n",
    "writer = SummaryWriter(log_dir='./series_runs/')"
   ]
  },
  {
   "cell_type": "code",
   "execution_count": 337,
   "metadata": {},
   "outputs": [],
   "source": [
    "global_epoch = 0\n",
    "global_iter = 0"
   ]
  },
  {
   "cell_type": "code",
   "execution_count": 338,
   "metadata": {},
   "outputs": [],
   "source": [
    "def test_model(epoch):\n",
    "    test_iter  = tqdm(dl_test)\n",
    "    sum_loss = 0\n",
    "    num_batches = 0\n",
    "    for i, batch in enumerate(test_iter):\n",
    "        target = batch[-1][:, 1:]\n",
    "        result, _ = series_model(batch)\n",
    "        batch_loss = loss(result, target)\n",
    "        sum_loss += batch_loss\n",
    "        num_batches += 1\n",
    "    sum_loss /= num_batches\n",
    "    writer.add_scalar('Loss/val', sum_loss , epoch)\n",
    "    return sum_loss"
   ]
  },
  {
   "cell_type": "code",
   "execution_count": 339,
   "metadata": {
    "scrolled": true
   },
   "outputs": [
    {
     "name": "stderr",
     "output_type": "stream",
     "text": [
      "Epoch: 0000, Iter Loss: 0.6694: 100%|██████████| 135/135 [00:03<00:00, 39.55it/s]\n",
      "100%|██████████| 44/44 [00:00<00:00, 61.80it/s]\n",
      "Epoch: 0001, Iter Loss: 0.6133: 100%|██████████| 135/135 [00:03<00:00, 39.55it/s]\n",
      "100%|██████████| 44/44 [00:00<00:00, 62.56it/s]\n",
      "Epoch: 0002, Iter Loss: 0.6847: 100%|██████████| 135/135 [00:03<00:00, 41.06it/s]\n",
      "100%|██████████| 44/44 [00:00<00:00, 62.29it/s]\n",
      "Epoch: 0003, Iter Loss: 0.7048: 100%|██████████| 135/135 [00:03<00:00, 40.70it/s]\n",
      "100%|██████████| 44/44 [00:00<00:00, 62.36it/s]\n",
      "Epoch: 0004, Iter Loss: 0.6154: 100%|██████████| 135/135 [00:03<00:00, 41.22it/s]\n",
      "100%|██████████| 44/44 [00:00<00:00, 62.24it/s]\n",
      "Epoch: 0005, Iter Loss: 0.7719: 100%|██████████| 135/135 [00:03<00:00, 41.16it/s]\n",
      "100%|██████████| 44/44 [00:00<00:00, 62.32it/s]\n",
      "Epoch: 0006, Iter Loss: 0.6629: 100%|██████████| 135/135 [00:03<00:00, 40.85it/s]\n",
      "100%|██████████| 44/44 [00:00<00:00, 62.49it/s]\n",
      "Epoch: 0007, Iter Loss: 0.6777: 100%|██████████| 135/135 [00:03<00:00, 41.25it/s]\n",
      "100%|██████████| 44/44 [00:00<00:00, 62.48it/s]\n",
      "Epoch: 0008, Iter Loss: 0.6537: 100%|██████████| 135/135 [00:03<00:00, 40.40it/s]\n",
      "100%|██████████| 44/44 [00:00<00:00, 63.04it/s]\n",
      "Epoch: 0009, Iter Loss: 0.6487: 100%|██████████| 135/135 [00:03<00:00, 41.43it/s]\n",
      "100%|██████████| 44/44 [00:00<00:00, 62.43it/s]\n",
      "Epoch: 0010, Iter Loss: 0.6057: 100%|██████████| 135/135 [00:03<00:00, 40.76it/s]\n",
      "100%|██████████| 44/44 [00:00<00:00, 63.27it/s]\n",
      "Epoch: 0011, Iter Loss: 0.6785: 100%|██████████| 135/135 [00:03<00:00, 37.65it/s]\n",
      "100%|██████████| 44/44 [00:00<00:00, 63.02it/s]\n",
      "Epoch: 0012, Iter Loss: 0.6371: 100%|██████████| 135/135 [00:03<00:00, 41.41it/s]\n",
      "100%|██████████| 44/44 [00:00<00:00, 62.97it/s]\n",
      "Epoch: 0013, Iter Loss: 0.5761: 100%|██████████| 135/135 [00:03<00:00, 40.75it/s]\n",
      "100%|██████████| 44/44 [00:00<00:00, 62.65it/s]\n",
      "Epoch: 0014, Iter Loss: 0.6210: 100%|██████████| 135/135 [00:03<00:00, 40.72it/s]\n",
      "100%|██████████| 44/44 [00:00<00:00, 62.57it/s]\n",
      "Epoch: 0015, Iter Loss: 0.5454: 100%|██████████| 135/135 [00:03<00:00, 40.96it/s]\n",
      "100%|██████████| 44/44 [00:00<00:00, 62.99it/s]\n",
      "Epoch: 0016, Iter Loss: 0.5108: 100%|██████████| 135/135 [00:03<00:00, 41.09it/s]\n",
      "100%|██████████| 44/44 [00:00<00:00, 62.63it/s]\n",
      "Epoch: 0017, Iter Loss: 0.4915: 100%|██████████| 135/135 [00:03<00:00, 40.93it/s]\n",
      "100%|██████████| 44/44 [00:00<00:00, 62.73it/s]\n",
      "Epoch: 0018, Iter Loss: 0.4583: 100%|██████████| 135/135 [00:03<00:00, 41.03it/s]\n",
      "100%|██████████| 44/44 [00:00<00:00, 62.54it/s]\n",
      "Epoch: 0019, Iter Loss: 0.4784: 100%|██████████| 135/135 [00:03<00:00, 40.72it/s]\n",
      "100%|██████████| 44/44 [00:00<00:00, 63.12it/s]\n",
      "Epoch: 0020, Iter Loss: 0.4983: 100%|██████████| 135/135 [00:03<00:00, 41.37it/s]\n",
      "100%|██████████| 44/44 [00:00<00:00, 62.72it/s]\n",
      "Epoch: 0021, Iter Loss: 0.4502: 100%|██████████| 135/135 [00:03<00:00, 40.68it/s]\n",
      "100%|██████████| 44/44 [00:00<00:00, 62.93it/s]\n",
      "Epoch: 0022, Iter Loss: 0.4897: 100%|██████████| 135/135 [00:03<00:00, 40.36it/s]\n",
      "100%|██████████| 44/44 [00:00<00:00, 63.28it/s]\n",
      "Epoch: 0023, Iter Loss: 0.4003: 100%|██████████| 135/135 [00:03<00:00, 40.96it/s]\n",
      "100%|██████████| 44/44 [00:00<00:00, 63.13it/s]\n",
      "Epoch: 0024, Iter Loss: 0.3964: 100%|██████████| 135/135 [00:03<00:00, 40.99it/s]\n",
      "100%|██████████| 44/44 [00:00<00:00, 62.95it/s]\n",
      "Epoch: 0025, Iter Loss: 0.3352: 100%|██████████| 135/135 [00:03<00:00, 41.39it/s]\n",
      "100%|██████████| 44/44 [00:00<00:00, 63.16it/s]\n",
      "Epoch: 0026, Iter Loss: 0.3877: 100%|██████████| 135/135 [00:03<00:00, 42.14it/s]\n",
      "100%|██████████| 44/44 [00:00<00:00, 62.84it/s]\n",
      "Epoch: 0027, Iter Loss: 0.2701: 100%|██████████| 135/135 [00:03<00:00, 41.26it/s]\n",
      "100%|██████████| 44/44 [00:00<00:00, 63.07it/s]\n",
      "Epoch: 0028, Iter Loss: 0.3346: 100%|██████████| 135/135 [00:03<00:00, 41.03it/s]\n",
      "100%|██████████| 44/44 [00:00<00:00, 62.66it/s]\n",
      "Epoch: 0029, Iter Loss: 0.2585: 100%|██████████| 135/135 [00:03<00:00, 40.09it/s]\n",
      "100%|██████████| 44/44 [00:00<00:00, 62.67it/s]\n",
      "Epoch: 0030, Iter Loss: 0.3346: 100%|██████████| 135/135 [00:03<00:00, 41.02it/s]\n",
      "100%|██████████| 44/44 [00:00<00:00, 62.59it/s]\n",
      "Epoch: 0031, Iter Loss: 0.2247: 100%|██████████| 135/135 [00:03<00:00, 41.37it/s]\n",
      "100%|██████████| 44/44 [00:00<00:00, 59.06it/s]\n",
      "Epoch: 0032, Iter Loss: 0.2787: 100%|██████████| 135/135 [00:03<00:00, 37.19it/s]\n",
      "100%|██████████| 44/44 [00:00<00:00, 59.57it/s]\n",
      "Epoch: 0033, Iter Loss: 0.3128: 100%|██████████| 135/135 [00:03<00:00, 35.17it/s]\n",
      "100%|██████████| 44/44 [00:00<00:00, 58.30it/s]\n",
      "Epoch: 0034, Iter Loss: 0.3093: 100%|██████████| 135/135 [00:03<00:00, 37.62it/s]\n",
      "100%|██████████| 44/44 [00:00<00:00, 61.64it/s]\n",
      "Epoch: 0035, Iter Loss: 0.2992: 100%|██████████| 135/135 [00:03<00:00, 40.71it/s]\n",
      "100%|██████████| 44/44 [00:00<00:00, 62.80it/s]\n",
      "Epoch: 0036, Iter Loss: 0.1997: 100%|██████████| 135/135 [00:03<00:00, 39.93it/s]\n",
      "100%|██████████| 44/44 [00:00<00:00, 62.53it/s]\n",
      "Epoch: 0037, Iter Loss: 0.2565: 100%|██████████| 135/135 [00:03<00:00, 40.18it/s]\n",
      "100%|██████████| 44/44 [00:00<00:00, 62.77it/s]\n",
      "Epoch: 0038, Iter Loss: 0.2927: 100%|██████████| 135/135 [00:03<00:00, 40.32it/s]\n",
      "100%|██████████| 44/44 [00:00<00:00, 62.56it/s]\n",
      "Epoch: 0039, Iter Loss: 0.2835: 100%|██████████| 135/135 [00:03<00:00, 40.59it/s]\n",
      "100%|██████████| 44/44 [00:00<00:00, 62.55it/s]\n",
      "Epoch: 0040, Iter Loss: 0.3101: 100%|██████████| 135/135 [00:03<00:00, 41.00it/s]\n",
      "100%|██████████| 44/44 [00:00<00:00, 62.67it/s]\n",
      "Epoch: 0041, Iter Loss: 0.2171: 100%|██████████| 135/135 [00:03<00:00, 41.07it/s]\n",
      "100%|██████████| 44/44 [00:00<00:00, 63.01it/s]\n",
      "Epoch: 0042, Iter Loss: 0.2598: 100%|██████████| 135/135 [00:03<00:00, 41.20it/s]\n",
      "100%|██████████| 44/44 [00:00<00:00, 62.84it/s]\n",
      "Epoch: 0043, Iter Loss: 0.2559: 100%|██████████| 135/135 [00:03<00:00, 41.60it/s]\n",
      "100%|██████████| 44/44 [00:00<00:00, 62.57it/s]\n",
      "Epoch: 0044, Iter Loss: 0.2281: 100%|██████████| 135/135 [00:03<00:00, 41.10it/s]\n",
      "100%|██████████| 44/44 [00:00<00:00, 62.97it/s]\n",
      "Epoch: 0045, Iter Loss: 0.2075: 100%|██████████| 135/135 [00:03<00:00, 39.35it/s]\n",
      "100%|██████████| 44/44 [00:00<00:00, 61.94it/s]\n",
      "Epoch: 0046, Iter Loss: 0.1764: 100%|██████████| 135/135 [00:03<00:00, 41.12it/s]\n",
      "100%|██████████| 44/44 [00:00<00:00, 62.48it/s]\n",
      "Epoch: 0047, Iter Loss: 0.2046: 100%|██████████| 135/135 [00:03<00:00, 40.78it/s]\n",
      "100%|██████████| 44/44 [00:00<00:00, 63.44it/s]\n",
      "Epoch: 0048, Iter Loss: 0.2500: 100%|██████████| 135/135 [00:03<00:00, 41.45it/s]\n",
      "100%|██████████| 44/44 [00:00<00:00, 63.17it/s]\n",
      "Epoch: 0049, Iter Loss: 0.1754: 100%|██████████| 135/135 [00:03<00:00, 41.35it/s]\n",
      "100%|██████████| 44/44 [00:00<00:00, 59.17it/s]\n",
      "Epoch: 0050, Iter Loss: 0.2185: 100%|██████████| 135/135 [00:03<00:00, 36.84it/s]\n",
      "100%|██████████| 44/44 [00:00<00:00, 62.98it/s]\n",
      "Epoch: 0051, Iter Loss: 0.2287: 100%|██████████| 135/135 [00:03<00:00, 40.63it/s]\n",
      "100%|██████████| 44/44 [00:00<00:00, 62.86it/s]\n",
      "Epoch: 0052, Iter Loss: 0.2549: 100%|██████████| 135/135 [00:03<00:00, 40.67it/s]\n",
      "100%|██████████| 44/44 [00:00<00:00, 59.61it/s]\n",
      "Epoch: 0053, Iter Loss: 0.2430: 100%|██████████| 135/135 [00:03<00:00, 40.21it/s]\n",
      "100%|██████████| 44/44 [00:00<00:00, 62.96it/s]\n",
      "Epoch: 0054, Iter Loss: 0.3054: 100%|██████████| 135/135 [00:03<00:00, 41.26it/s]\n",
      "100%|██████████| 44/44 [00:00<00:00, 62.78it/s]\n",
      "Epoch: 0055, Iter Loss: 0.2056: 100%|██████████| 135/135 [00:03<00:00, 38.06it/s]\n",
      "100%|██████████| 44/44 [00:00<00:00, 59.56it/s]\n",
      "Epoch: 0056, Iter Loss: 0.2395: 100%|██████████| 135/135 [00:03<00:00, 35.24it/s]\n",
      "100%|██████████| 44/44 [00:00<00:00, 59.75it/s]\n",
      "Epoch: 0057, Iter Loss: 0.1698: 100%|██████████| 135/135 [00:03<00:00, 40.27it/s]\n",
      "100%|██████████| 44/44 [00:00<00:00, 62.78it/s]\n",
      "Epoch: 0058, Iter Loss: 0.1808: 100%|██████████| 135/135 [00:03<00:00, 41.68it/s]\n",
      "100%|██████████| 44/44 [00:00<00:00, 62.27it/s]\n",
      "Epoch: 0059, Iter Loss: 0.1690: 100%|██████████| 135/135 [00:03<00:00, 40.71it/s]\n",
      "100%|██████████| 44/44 [00:00<00:00, 63.11it/s]\n",
      "Epoch: 0060, Iter Loss: 0.1886: 100%|██████████| 135/135 [00:03<00:00, 40.85it/s]\n",
      "100%|██████████| 44/44 [00:00<00:00, 62.99it/s]\n",
      "Epoch: 0061, Iter Loss: 0.2024: 100%|██████████| 135/135 [00:03<00:00, 37.05it/s]\n",
      "100%|██████████| 44/44 [00:00<00:00, 59.82it/s]\n",
      "Epoch: 0062, Iter Loss: 0.2468: 100%|██████████| 135/135 [00:03<00:00, 39.47it/s]\n",
      "100%|██████████| 44/44 [00:00<00:00, 63.03it/s]\n",
      "Epoch: 0063, Iter Loss: 0.1998: 100%|██████████| 135/135 [00:03<00:00, 41.26it/s]\n",
      "100%|██████████| 44/44 [00:00<00:00, 62.95it/s]\n",
      "Epoch: 0064, Iter Loss: 0.2383: 100%|██████████| 135/135 [00:03<00:00, 41.30it/s]\n",
      "100%|██████████| 44/44 [00:00<00:00, 62.78it/s]\n",
      "Epoch: 0065, Iter Loss: 0.1599: 100%|██████████| 135/135 [00:03<00:00, 41.21it/s]\n",
      "100%|██████████| 44/44 [00:00<00:00, 63.05it/s]\n",
      "Epoch: 0066, Iter Loss: 0.2281: 100%|██████████| 135/135 [00:03<00:00, 40.92it/s]\n",
      "100%|██████████| 44/44 [00:00<00:00, 62.78it/s]\n",
      "Epoch: 0067, Iter Loss: 0.1847: 100%|██████████| 135/135 [00:03<00:00, 39.65it/s]\n",
      "100%|██████████| 44/44 [00:00<00:00, 63.01it/s]\n",
      "Epoch: 0068, Iter Loss: 0.2045: 100%|██████████| 135/135 [00:03<00:00, 40.81it/s]\n",
      "100%|██████████| 44/44 [00:00<00:00, 62.72it/s]\n",
      "Epoch: 0069, Iter Loss: 0.1779: 100%|██████████| 135/135 [00:03<00:00, 40.48it/s]\n",
      "100%|██████████| 44/44 [00:00<00:00, 62.83it/s]\n",
      "Epoch: 0070, Iter Loss: 0.2420: 100%|██████████| 135/135 [00:03<00:00, 41.42it/s]\n",
      "100%|██████████| 44/44 [00:00<00:00, 62.91it/s]\n",
      "Epoch: 0071, Iter Loss: 0.2081: 100%|██████████| 135/135 [00:03<00:00, 41.69it/s]\n",
      "100%|██████████| 44/44 [00:00<00:00, 62.84it/s]\n",
      "Epoch: 0072, Iter Loss: 0.2879: 100%|██████████| 135/135 [00:03<00:00, 41.39it/s]\n",
      "100%|██████████| 44/44 [00:00<00:00, 62.92it/s]\n",
      "Epoch: 0073, Iter Loss: 0.2597: 100%|██████████| 135/135 [00:03<00:00, 40.97it/s]\n",
      "100%|██████████| 44/44 [00:00<00:00, 62.68it/s]\n",
      "Epoch: 0074, Iter Loss: 0.2159: 100%|██████████| 135/135 [00:03<00:00, 41.44it/s]\n",
      "100%|██████████| 44/44 [00:00<00:00, 62.97it/s]\n",
      "Epoch: 0075, Iter Loss: 0.2682: 100%|██████████| 135/135 [00:03<00:00, 41.62it/s]\n",
      "100%|██████████| 44/44 [00:00<00:00, 63.11it/s]\n",
      "Epoch: 0076, Iter Loss: 0.2549: 100%|██████████| 135/135 [00:03<00:00, 39.38it/s]\n",
      "100%|██████████| 44/44 [00:00<00:00, 63.16it/s]\n",
      "Epoch: 0077, Iter Loss: 0.2675: 100%|██████████| 135/135 [00:03<00:00, 40.55it/s]\n",
      "100%|██████████| 44/44 [00:00<00:00, 63.09it/s]\n",
      "Epoch: 0078, Iter Loss: 0.1740: 100%|██████████| 135/135 [00:03<00:00, 37.89it/s]\n",
      "100%|██████████| 44/44 [00:00<00:00, 62.27it/s]\n",
      "Epoch: 0079, Iter Loss: 0.2180: 100%|██████████| 135/135 [00:03<00:00, 40.80it/s]\n",
      "100%|██████████| 44/44 [00:00<00:00, 62.47it/s]\n",
      "Epoch: 0080, Iter Loss: 0.1965: 100%|██████████| 135/135 [00:03<00:00, 41.43it/s]\n",
      "100%|██████████| 44/44 [00:00<00:00, 62.49it/s]\n",
      "Epoch: 0081, Iter Loss: 0.3051: 100%|██████████| 135/135 [00:03<00:00, 40.64it/s]\n",
      "100%|██████████| 44/44 [00:00<00:00, 62.86it/s]\n",
      "Epoch: 0082, Iter Loss: 0.2593: 100%|██████████| 135/135 [00:03<00:00, 40.38it/s]\n",
      "100%|██████████| 44/44 [00:00<00:00, 61.97it/s]\n",
      "Epoch: 0083, Iter Loss: 0.2126: 100%|██████████| 135/135 [00:03<00:00, 40.62it/s]\n",
      "100%|██████████| 44/44 [00:00<00:00, 62.74it/s]\n",
      "Epoch: 0084, Iter Loss: 0.2450: 100%|██████████| 135/135 [00:03<00:00, 41.26it/s]\n",
      "100%|██████████| 44/44 [00:00<00:00, 60.44it/s]\n",
      "Epoch: 0085, Iter Loss: 0.1308: 100%|██████████| 135/135 [00:03<00:00, 40.63it/s]\n",
      "100%|██████████| 44/44 [00:00<00:00, 62.91it/s]\n",
      "Epoch: 0086, Iter Loss: 0.1496: 100%|██████████| 135/135 [00:03<00:00, 41.18it/s]\n",
      "100%|██████████| 44/44 [00:00<00:00, 62.66it/s]\n",
      "Epoch: 0087, Iter Loss: 0.2117: 100%|██████████| 135/135 [00:03<00:00, 40.24it/s]\n",
      "100%|██████████| 44/44 [00:00<00:00, 62.33it/s]\n",
      "Epoch: 0088, Iter Loss: 0.1929: 100%|██████████| 135/135 [00:03<00:00, 39.87it/s]\n",
      "100%|██████████| 44/44 [00:00<00:00, 62.52it/s]\n",
      "Epoch: 0089, Iter Loss: 0.2148: 100%|██████████| 135/135 [00:03<00:00, 40.34it/s]\n",
      "100%|██████████| 44/44 [00:00<00:00, 61.97it/s]\n",
      "Epoch: 0090, Iter Loss: 0.1598: 100%|██████████| 135/135 [00:03<00:00, 39.61it/s]\n",
      "100%|██████████| 44/44 [00:00<00:00, 61.63it/s]\n",
      "Epoch: 0091, Iter Loss: 0.1815: 100%|██████████| 135/135 [00:03<00:00, 37.81it/s]\n",
      "100%|██████████| 44/44 [00:00<00:00, 62.18it/s]\n",
      "Epoch: 0092, Iter Loss: 0.2024: 100%|██████████| 135/135 [00:03<00:00, 38.17it/s]\n",
      "100%|██████████| 44/44 [00:00<00:00, 62.12it/s]\n",
      "Epoch: 0093, Iter Loss: 0.1789: 100%|██████████| 135/135 [00:03<00:00, 39.57it/s]\n",
      "100%|██████████| 44/44 [00:00<00:00, 62.86it/s]\n",
      "Epoch: 0094, Iter Loss: 0.2475: 100%|██████████| 135/135 [00:03<00:00, 40.73it/s]\n",
      "100%|██████████| 44/44 [00:00<00:00, 62.66it/s]\n",
      "Epoch: 0095, Iter Loss: 0.1785: 100%|██████████| 135/135 [00:03<00:00, 40.53it/s]\n",
      "100%|██████████| 44/44 [00:00<00:00, 62.85it/s]\n",
      "Epoch: 0096, Iter Loss: 0.1725: 100%|██████████| 135/135 [00:03<00:00, 41.01it/s]\n",
      "100%|██████████| 44/44 [00:00<00:00, 61.27it/s]\n",
      "Epoch: 0097, Iter Loss: 0.2143: 100%|██████████| 135/135 [00:03<00:00, 37.96it/s]\n",
      "100%|██████████| 44/44 [00:00<00:00, 59.53it/s]\n",
      "Epoch: 0098, Iter Loss: 0.2371: 100%|██████████| 135/135 [00:03<00:00, 37.43it/s]\n",
      "100%|██████████| 44/44 [00:00<00:00, 59.80it/s]\n",
      "Epoch: 0099, Iter Loss: 0.2475: 100%|██████████| 135/135 [00:03<00:00, 37.36it/s]\n",
      "100%|██████████| 44/44 [00:00<00:00, 59.80it/s]\n"
     ]
    }
   ],
   "source": [
    "for epoch in range(0, 100):\n",
    "    epoch_iter = tqdm(dl_train)\n",
    "    series_model.train()\n",
    "    for batch in epoch_iter:\n",
    "        optimizer.zero_grad()\n",
    "        target = batch[-1][:,1:]\n",
    "        result, _ = series_model(batch)        \n",
    "        batch_loss = loss(result, target)\n",
    "        batch_loss.backward()\n",
    "        epoch_iter.set_description(\"Epoch: %04d, Iter Loss: %.4f\"  %(epoch, batch_loss))\n",
    "        optimizer.step()\n",
    "        writer.add_scalar('Loss/train', batch_loss , global_iter)\n",
    "        global_iter += 1\n",
    "    with torch.no_grad():\n",
    "        series_model.eval()\n",
    "        test_model(global_epoch)\n",
    "    global_epoch += 1"
   ]
  },
  {
   "cell_type": "code",
   "execution_count": 340,
   "metadata": {},
   "outputs": [],
   "source": [
    "torch.save(series_model.state_dict(), 'series_model2.ptx')"
   ]
  },
  {
   "cell_type": "code",
   "execution_count": 355,
   "metadata": {},
   "outputs": [
    {
     "data": {
      "text/plain": [
       "<All keys matched successfully>"
      ]
     },
     "execution_count": 355,
     "metadata": {},
     "output_type": "execute_result"
    }
   ],
   "source": [
    "series_model = TimeSeriesModel(32, (4,4))\n",
    "series_model.load_state_dict(torch.load('series_model.ptx'))"
   ]
  },
  {
   "cell_type": "code",
   "execution_count": 356,
   "metadata": {},
   "outputs": [],
   "source": [
    "train_last_window = DataLoader(ds_train, 1 , False)\n",
    "last_window = None\n",
    "for b in train_last_window:\n",
    "    last_window = b"
   ]
  },
  {
   "cell_type": "code",
   "execution_count": 357,
   "metadata": {},
   "outputs": [
    {
     "data": {
      "text/plain": [
       "[tensor([[12, 13, 14, 15, 16, 17, 18, 19, 20, 21, 22, 23, 24, 25, 26, 27, 28, 29,\n",
       "          30, 31]]),\n",
       " tensor([[12, 12, 12, 12, 12, 12, 12, 12, 12, 12, 12, 12, 12, 12, 12, 12, 12, 12,\n",
       "          12, 12]]),\n",
       " tensor([[2018, 2018, 2018, 2018, 2018, 2018, 2018, 2018, 2018, 2018, 2018, 2018,\n",
       "          2018, 2018, 2018, 2018, 2018, 2018, 2018, 2018]]),\n",
       " tensor([[-0.1291, -0.1936, -0.4293, -1.7672, -1.7341, -0.2415, -0.3038, -0.1620,\n",
       "          -0.2428, -0.5024, -1.7640, -1.7625, -0.2683, -0.4030, -0.4092, -0.4963,\n",
       "          -0.5780, -1.0860, -2.0020, -2.2004]])]"
      ]
     },
     "execution_count": 357,
     "metadata": {},
     "output_type": "execute_result"
    }
   ],
   "source": [
    "last_window"
   ]
  },
  {
   "cell_type": "code",
   "execution_count": 361,
   "metadata": {},
   "outputs": [
    {
     "name": "stdout",
     "output_type": "stream",
     "text": [
      "tensor([31]) tensor([12]) tensor([2018])\n"
     ]
    }
   ],
   "source": [
    "with open('nn_submition.csv', 'wt') as sf:\n",
    "    print('date,hits', file=sf)\n",
    "    with torch.no_grad():\n",
    "        series_model.eval()\n",
    "        ds_val  = TSDataset(data_test, 1)\n",
    "        output, ctx = series_model(last_window)\n",
    "        d, m, year, prev = last_window[0][0,-1:], last_window[1][0,-1:], last_window[2][0,-1:],  output[-1:]\n",
    "        print(d, m, year)\n",
    "        result = []\n",
    "        for i in range(len(ds_val)):\n",
    "            output, ctx = series_model((d.unsqueeze(0), m.unsqueeze(0), 0 , prev.unsqueeze(0)), ctx)\n",
    "            result += [float(output)]\n",
    "            t = ds_val[i]\n",
    "            d, m, year, prev = t[0], t[1], t[2], torch.FloatTensor([output])\n",
    "            print('%d-%02d-%02d,%d' %(year,m,d, float(prev)*stats.std + stats.mean), file=sf)"
   ]
  },
  {
   "cell_type": "code",
   "execution_count": 362,
   "metadata": {},
   "outputs": [
    {
     "data": {
      "text/html": [
       "<div>\n",
       "<style scoped>\n",
       "    .dataframe tbody tr th:only-of-type {\n",
       "        vertical-align: middle;\n",
       "    }\n",
       "\n",
       "    .dataframe tbody tr th {\n",
       "        vertical-align: top;\n",
       "    }\n",
       "\n",
       "    .dataframe thead th {\n",
       "        text-align: right;\n",
       "    }\n",
       "</style>\n",
       "<table border=\"1\" class=\"dataframe\">\n",
       "  <thead>\n",
       "    <tr style=\"text-align: right;\">\n",
       "      <th></th>\n",
       "      <th>value</th>\n",
       "    </tr>\n",
       "    <tr>\n",
       "      <th>date</th>\n",
       "      <th></th>\n",
       "    </tr>\n",
       "  </thead>\n",
       "  <tbody>\n",
       "    <tr>\n",
       "      <th>2019-01-01</th>\n",
       "      <td>240600602</td>\n",
       "    </tr>\n",
       "    <tr>\n",
       "      <th>2019-01-02</th>\n",
       "      <td>239512059</td>\n",
       "    </tr>\n",
       "    <tr>\n",
       "      <th>2019-01-03</th>\n",
       "      <td>243404105</td>\n",
       "    </tr>\n",
       "    <tr>\n",
       "      <th>2019-01-04</th>\n",
       "      <td>236945641</td>\n",
       "    </tr>\n",
       "    <tr>\n",
       "      <th>2019-01-05</th>\n",
       "      <td>148078588</td>\n",
       "    </tr>\n",
       "  </tbody>\n",
       "</table>\n",
       "</div>"
      ],
      "text/plain": [
       "                value\n",
       "date                 \n",
       "2019-01-01  240600602\n",
       "2019-01-02  239512059\n",
       "2019-01-03  243404105\n",
       "2019-01-04  236945641\n",
       "2019-01-05  148078588"
      ]
     },
     "execution_count": 362,
     "metadata": {},
     "output_type": "execute_result"
    }
   ],
   "source": [
    "data_nn_submition = read_set('nn_submition.csv')\n",
    "data_nn_submition.head()"
   ]
  },
  {
   "cell_type": "code",
   "execution_count": 363,
   "metadata": {},
   "outputs": [
    {
     "data": {
      "text/plain": [
       "10.943318108133388"
      ]
     },
     "execution_count": 363,
     "metadata": {},
     "output_type": "execute_result"
    }
   ],
   "source": [
    "MAPE(data_test, data_nn_submition)"
   ]
  },
  {
   "cell_type": "code",
   "execution_count": 348,
   "metadata": {},
   "outputs": [
    {
     "data": {
      "text/plain": [
       "365"
      ]
     },
     "execution_count": 348,
     "metadata": {},
     "output_type": "execute_result"
    }
   ],
   "source": [
    "len(data_nn_submition)\n"
   ]
  },
  {
   "cell_type": "code",
   "execution_count": 349,
   "metadata": {},
   "outputs": [
    {
     "data": {
      "image/png": "[encoded data removed]",
      "text/plain": [
       "<Figure size 432x288 with 1 Axes>"
      ]
     },
     "metadata": {
      "needs_background": "light"
     },
     "output_type": "display_data"
    }
   ],
   "source": [
    "plt.figure()\n",
    "#data_train['value'].plot(kind = 'line')\n",
    "data_test['value'].plot(kind = 'line')\n",
    "#plt.plot(data_forecaste, label = \"Prediction\")\n",
    "data_nn_submition['value'].plot(kind = 'line')\n",
    "plt.show()"
   ]
  },
  {
   "cell_type": "code",
   "execution_count": 252,
   "metadata": {},
   "outputs": [
    {
     "data": {
      "text/plain": [
       "21287656971310.227"
      ]
     },
     "execution_count": 252,
     "metadata": {},
     "output_type": "execute_result"
    }
   ],
   "source": [
    "mean_squared_error(data_test, data_nn_submition) / 365"
   ]
  },
  {
   "cell_type": "code",
   "execution_count": 330,
   "metadata": {},
   "outputs": [],
   "source": [
    "prediction.to_csv('arima.csv', sep=',')"
   ]
  },
  {
   "cell_type": "code",
   "execution_count": null,
   "metadata": {},
   "outputs": [],
   "source": []
  }
 ],
 "metadata": {
  "kernelspec": {
   "display_name": "Python 3",
   "language": "python",
   "name": "python3"
  },
  "language_info": {
   "codemirror_mode": {
    "name": "ipython",
    "version": 3
   },
   "file_extension": ".py",
   "mimetype": "text/x-python",
   "name": "python",
   "nbconvert_exporter": "python",
   "pygments_lexer": "ipython3",
   "version": "3.8.5"
  }
 },
 "nbformat": 4,
 "nbformat_minor": 4
}
