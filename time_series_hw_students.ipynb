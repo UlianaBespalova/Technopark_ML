{
 "cells": [
  {
   "cell_type": "code",
   "execution_count": 5,
   "metadata": {},
   "outputs": [],
   "source": [
    "import torch\n",
    "import torch.nn as nn\n",
    "from torch.optim import Adam\n",
    "from torch.utils.data import DataLoader, Dataset\n",
    "from torch.utils.tensorboard import SummaryWriter\n",
    "import pandas as pd\n",
    "import os\n",
    "from tqdm import *\n",
    "import matplotlib.pyplot as plt\n",
    "from sklearn.metrics import mean_squared_error\n",
    "import pmdarima as pm\n",
    "import numpy as np\n",
    "%matplotlib inline"
   ]
  },
  {
   "cell_type": "markdown",
   "metadata": {},
   "source": [
    "# Ноутбук для ДЗ №4 обработка временных последовательностей RNN\n",
    "В данном дз вам будут данных времменая последовательно, которая описывает распределение хитов по времени за несколько лет. Вам нужно будет обучить модель RNN на исторических данных и потом сделать предсказание для \"будущего\" года, в текущей задаче это 2019 год"
   ]
  },
  {
   "cell_type": "markdown",
   "metadata": {},
   "source": [
    "## Готовим данные\n",
    "Три файла с данными\n",
    "1. исторические данные - train\n",
    "2. Тестовые данные текущего момента - derived\n",
    "3. Пример сабмита резкльтатов конкурса на кагле"
   ]
  },
  {
   "cell_type": "code",
   "execution_count": 6,
   "metadata": {},
   "outputs": [],
   "source": [
    "def read_set(file):\n",
    "    data = pd.read_csv(file)\n",
    "    data['date'] = pd.to_datetime(data['date'])\n",
    "    data = data.rename(columns = {'DATE':'date'})\n",
    "    data = data.rename(columns = {'hits':'value'})\n",
    "    data = data.set_index('date')\n",
    "    return data"
   ]
  },
  {
   "cell_type": "code",
   "execution_count": 7,
   "metadata": {},
   "outputs": [],
   "source": [
    "data_train = read_set('train.csv')\n",
    "data_test =  read_set('derived.csv')\n",
    "data_sample = read_set('sample_submission.csv')"
   ]
  },
  {
   "cell_type": "markdown",
   "metadata": {},
   "source": [
    "### Проверим наши данные, что мы загрузили"
   ]
  },
  {
   "cell_type": "code",
   "execution_count": 8,
   "metadata": {},
   "outputs": [
    {
     "name": "stdout",
     "output_type": "stream",
     "text": [
      "<class 'pandas.core.frame.DataFrame'>\n",
      "DatetimeIndex: 1096 entries, 2016-01-01 to 2018-12-31\n",
      "Data columns (total 1 columns):\n",
      " #   Column  Non-Null Count  Dtype\n",
      "---  ------  --------------  -----\n",
      " 0   value   1096 non-null   int64\n",
      "dtypes: int64(1)\n",
      "memory usage: 17.1 KB\n",
      "None\n",
      "<class 'pandas.core.frame.DataFrame'>\n",
      "DatetimeIndex: 365 entries, 2019-01-01 to 2019-12-31\n",
      "Data columns (total 1 columns):\n",
      " #   Column  Non-Null Count  Dtype\n",
      "---  ------  --------------  -----\n",
      " 0   value   365 non-null    int64\n",
      "dtypes: int64(1)\n",
      "memory usage: 5.7 KB\n",
      "None\n",
      "<class 'pandas.core.frame.DataFrame'>\n",
      "DatetimeIndex: 365 entries, 2019-01-01 to 2019-12-31\n",
      "Data columns (total 1 columns):\n",
      " #   Column  Non-Null Count  Dtype\n",
      "---  ------  --------------  -----\n",
      " 0   value   365 non-null    int64\n",
      "dtypes: int64(1)\n",
      "memory usage: 5.7 KB\n",
      "None\n"
     ]
    }
   ],
   "source": [
    "print( data_train.info() )\n",
    "print( data_test.info() )\n",
    "print( data_sample.info() )"
   ]
  },
  {
   "cell_type": "code",
   "execution_count": 9,
   "metadata": {
    "collapsed": true
   },
   "outputs": [
    {
     "data": {
      "text/html": [
       "<div>\n",
       "<style scoped>\n",
       "    .dataframe tbody tr th:only-of-type {\n",
       "        vertical-align: middle;\n",
       "    }\n",
       "\n",
       "    .dataframe tbody tr th {\n",
       "        vertical-align: top;\n",
       "    }\n",
       "\n",
       "    .dataframe thead th {\n",
       "        text-align: right;\n",
       "    }\n",
       "</style>\n",
       "<table border=\"1\" class=\"dataframe\">\n",
       "  <thead>\n",
       "    <tr style=\"text-align: right;\">\n",
       "      <th></th>\n",
       "      <th>value</th>\n",
       "    </tr>\n",
       "  </thead>\n",
       "  <tbody>\n",
       "    <tr>\n",
       "      <th>count</th>\n",
       "      <td>1.096000e+03</td>\n",
       "    </tr>\n",
       "    <tr>\n",
       "      <th>mean</th>\n",
       "      <td>2.792255e+08</td>\n",
       "    </tr>\n",
       "    <tr>\n",
       "      <th>std</th>\n",
       "      <td>7.677884e+07</td>\n",
       "    </tr>\n",
       "    <tr>\n",
       "      <th>min</th>\n",
       "      <td>1.103556e+08</td>\n",
       "    </tr>\n",
       "    <tr>\n",
       "      <th>25%</th>\n",
       "      <td>2.317301e+08</td>\n",
       "    </tr>\n",
       "    <tr>\n",
       "      <th>50%</th>\n",
       "      <td>2.791131e+08</td>\n",
       "    </tr>\n",
       "    <tr>\n",
       "      <th>75%</th>\n",
       "      <td>3.287730e+08</td>\n",
       "    </tr>\n",
       "    <tr>\n",
       "      <th>max</th>\n",
       "      <td>4.550733e+08</td>\n",
       "    </tr>\n",
       "  </tbody>\n",
       "</table>\n",
       "</div>"
      ],
      "text/plain": [
       "              value\n",
       "count  1.096000e+03\n",
       "mean   2.792255e+08\n",
       "std    7.677884e+07\n",
       "min    1.103556e+08\n",
       "25%    2.317301e+08\n",
       "50%    2.791131e+08\n",
       "75%    3.287730e+08\n",
       "max    4.550733e+08"
      ]
     },
     "execution_count": 9,
     "metadata": {},
     "output_type": "execute_result"
    }
   ],
   "source": [
    "data_train.describe()"
   ]
  },
  {
   "cell_type": "code",
   "execution_count": 10,
   "metadata": {
    "collapsed": true
   },
   "outputs": [
    {
     "data": {
      "text/html": [
       "<div>\n",
       "<style scoped>\n",
       "    .dataframe tbody tr th:only-of-type {\n",
       "        vertical-align: middle;\n",
       "    }\n",
       "\n",
       "    .dataframe tbody tr th {\n",
       "        vertical-align: top;\n",
       "    }\n",
       "\n",
       "    .dataframe thead th {\n",
       "        text-align: right;\n",
       "    }\n",
       "</style>\n",
       "<table border=\"1\" class=\"dataframe\">\n",
       "  <thead>\n",
       "    <tr style=\"text-align: right;\">\n",
       "      <th></th>\n",
       "      <th>value</th>\n",
       "    </tr>\n",
       "  </thead>\n",
       "  <tbody>\n",
       "    <tr>\n",
       "      <th>count</th>\n",
       "      <td>3.650000e+02</td>\n",
       "    </tr>\n",
       "    <tr>\n",
       "      <th>mean</th>\n",
       "      <td>2.250691e+08</td>\n",
       "    </tr>\n",
       "    <tr>\n",
       "      <th>std</th>\n",
       "      <td>6.798229e+07</td>\n",
       "    </tr>\n",
       "    <tr>\n",
       "      <th>min</th>\n",
       "      <td>1.055197e+08</td>\n",
       "    </tr>\n",
       "    <tr>\n",
       "      <th>25%</th>\n",
       "      <td>1.467913e+08</td>\n",
       "    </tr>\n",
       "    <tr>\n",
       "      <th>50%</th>\n",
       "      <td>2.525773e+08</td>\n",
       "    </tr>\n",
       "    <tr>\n",
       "      <th>75%</th>\n",
       "      <td>2.724223e+08</td>\n",
       "    </tr>\n",
       "    <tr>\n",
       "      <th>max</th>\n",
       "      <td>3.410300e+08</td>\n",
       "    </tr>\n",
       "  </tbody>\n",
       "</table>\n",
       "</div>"
      ],
      "text/plain": [
       "              value\n",
       "count  3.650000e+02\n",
       "mean   2.250691e+08\n",
       "std    6.798229e+07\n",
       "min    1.055197e+08\n",
       "25%    1.467913e+08\n",
       "50%    2.525773e+08\n",
       "75%    2.724223e+08\n",
       "max    3.410300e+08"
      ]
     },
     "execution_count": 10,
     "metadata": {},
     "output_type": "execute_result"
    }
   ],
   "source": [
    "data_test.describe()"
   ]
  },
  {
   "cell_type": "code",
   "execution_count": 11,
   "metadata": {
    "collapsed": true
   },
   "outputs": [
    {
     "data": {
      "text/html": [
       "<div>\n",
       "<style scoped>\n",
       "    .dataframe tbody tr th:only-of-type {\n",
       "        vertical-align: middle;\n",
       "    }\n",
       "\n",
       "    .dataframe tbody tr th {\n",
       "        vertical-align: top;\n",
       "    }\n",
       "\n",
       "    .dataframe thead th {\n",
       "        text-align: right;\n",
       "    }\n",
       "</style>\n",
       "<table border=\"1\" class=\"dataframe\">\n",
       "  <thead>\n",
       "    <tr style=\"text-align: right;\">\n",
       "      <th></th>\n",
       "      <th>value</th>\n",
       "    </tr>\n",
       "  </thead>\n",
       "  <tbody>\n",
       "    <tr>\n",
       "      <th>count</th>\n",
       "      <td>365.0</td>\n",
       "    </tr>\n",
       "    <tr>\n",
       "      <th>mean</th>\n",
       "      <td>110355560.0</td>\n",
       "    </tr>\n",
       "    <tr>\n",
       "      <th>std</th>\n",
       "      <td>0.0</td>\n",
       "    </tr>\n",
       "    <tr>\n",
       "      <th>min</th>\n",
       "      <td>110355560.0</td>\n",
       "    </tr>\n",
       "    <tr>\n",
       "      <th>25%</th>\n",
       "      <td>110355560.0</td>\n",
       "    </tr>\n",
       "    <tr>\n",
       "      <th>50%</th>\n",
       "      <td>110355560.0</td>\n",
       "    </tr>\n",
       "    <tr>\n",
       "      <th>75%</th>\n",
       "      <td>110355560.0</td>\n",
       "    </tr>\n",
       "    <tr>\n",
       "      <th>max</th>\n",
       "      <td>110355560.0</td>\n",
       "    </tr>\n",
       "  </tbody>\n",
       "</table>\n",
       "</div>"
      ],
      "text/plain": [
       "             value\n",
       "count        365.0\n",
       "mean   110355560.0\n",
       "std            0.0\n",
       "min    110355560.0\n",
       "25%    110355560.0\n",
       "50%    110355560.0\n",
       "75%    110355560.0\n",
       "max    110355560.0"
      ]
     },
     "execution_count": 11,
     "metadata": {},
     "output_type": "execute_result"
    }
   ],
   "source": [
    "data_sample.describe()"
   ]
  },
  {
   "cell_type": "markdown",
   "metadata": {},
   "source": [
    "## Графики наших временных последовательностей"
   ]
  },
  {
   "cell_type": "code",
   "execution_count": 12,
   "metadata": {},
   "outputs": [
    {
     "data": {
      "image/png": "[encoded data removed]",
      "text/plain": [
       "<Figure size 432x288 with 1 Axes>"
      ]
     },
     "metadata": {
      "needs_background": "light"
     },
     "output_type": "display_data"
    }
   ],
   "source": [
    "plt.figure()\n",
    "data_train['value'].plot(kind = 'line')\n",
    "data_test['value'].plot(kind = 'line')\n",
    "data_sample['value'].plot(kind = 'line')\n",
    "plt.show()"
   ]
  },
  {
   "cell_type": "markdown",
   "metadata": {},
   "source": [
    "## Статистическая модель [ARIMA](https://ru.wikipedia.org/wiki/ARIMA)\n"
   ]
  },
  {
   "cell_type": "code",
   "execution_count": 13,
   "metadata": {},
   "outputs": [
    {
     "name": "stdout",
     "output_type": "stream",
     "text": [
      "Performing stepwise search to minimize aic\n",
      " ARIMA(2,0,2)(1,0,1)[4] intercept   : AIC=42026.193, Time=1.65 sec\n",
      " ARIMA(0,0,0)(0,0,0)[4] intercept   : AIC=42912.228, Time=0.03 sec\n",
      " ARIMA(1,0,0)(1,0,0)[4] intercept   : AIC=42352.663, Time=0.67 sec\n",
      " ARIMA(0,0,1)(0,0,1)[4] intercept   : AIC=42271.764, Time=0.24 sec\n",
      " ARIMA(0,0,0)(0,0,0)[4]             : AIC=45821.113, Time=0.02 sec\n",
      " ARIMA(2,0,2)(0,0,1)[4] intercept   : AIC=42138.118, Time=0.64 sec\n",
      " ARIMA(2,0,2)(1,0,0)[4] intercept   : AIC=42130.455, Time=1.48 sec\n",
      " ARIMA(2,0,2)(2,0,1)[4] intercept   : AIC=41842.461, Time=2.47 sec\n",
      " ARIMA(2,0,2)(2,0,0)[4] intercept   : AIC=42088.125, Time=1.87 sec\n",
      " ARIMA(2,0,2)(2,0,2)[4] intercept   : AIC=41829.133, Time=3.58 sec\n",
      " ARIMA(2,0,2)(1,0,2)[4] intercept   : AIC=42095.534, Time=3.35 sec\n",
      " ARIMA(1,0,2)(2,0,2)[4] intercept   : AIC=42117.810, Time=2.44 sec\n",
      " ARIMA(2,0,1)(2,0,2)[4] intercept   : AIC=42107.831, Time=2.23 sec\n",
      " ARIMA(3,0,2)(2,0,2)[4] intercept   : AIC=41841.291, Time=4.61 sec\n",
      " ARIMA(2,0,3)(2,0,2)[4] intercept   : AIC=41543.028, Time=4.25 sec\n",
      " ARIMA(2,0,3)(1,0,2)[4] intercept   : AIC=41633.640, Time=4.24 sec\n",
      " ARIMA(2,0,3)(2,0,1)[4] intercept   : AIC=41536.185, Time=4.00 sec\n",
      " ARIMA(2,0,3)(1,0,1)[4] intercept   : AIC=41537.817, Time=3.74 sec\n",
      " ARIMA(2,0,3)(2,0,0)[4] intercept   : AIC=41564.667, Time=3.17 sec\n",
      " ARIMA(2,0,3)(1,0,0)[4] intercept   : AIC=41592.292, Time=2.45 sec\n",
      " ARIMA(1,0,3)(2,0,1)[4] intercept   : AIC=42079.018, Time=3.23 sec\n",
      " ARIMA(3,0,3)(2,0,1)[4] intercept   : AIC=41428.778, Time=3.97 sec\n",
      " ARIMA(3,0,3)(1,0,1)[4] intercept   : AIC=inf, Time=3.07 sec\n",
      " ARIMA(3,0,3)(2,0,0)[4] intercept   : AIC=inf, Time=3.72 sec\n",
      " ARIMA(3,0,3)(2,0,2)[4] intercept   : AIC=41350.283, Time=4.30 sec\n",
      " ARIMA(3,0,3)(1,0,2)[4] intercept   : AIC=41716.127, Time=4.42 sec\n",
      " ARIMA(3,0,3)(2,0,2)[4]             : AIC=inf, Time=4.22 sec\n",
      "\n",
      "Best model:  ARIMA(3,0,3)(2,0,2)[4] intercept\n",
      "Total fit time: 74.124 seconds\n"
     ]
    }
   ],
   "source": [
    "# обучаем модель\n",
    "arima_model=model = pm.auto_arima(data_train, seasonal = True,m = 4,test='adf',error_action='ignore',  \n",
    "                           suppress_warnings=True,\n",
    "                      stepwise=True, trace=True)"
   ]
  },
  {
   "cell_type": "code",
   "execution_count": 14,
   "metadata": {},
   "outputs": [],
   "source": [
    "prediction = pd.DataFrame(model.predict(n_periods = int(data_test.size)), data_test.index)"
   ]
  },
  {
   "cell_type": "code",
   "execution_count": 15,
   "metadata": {},
   "outputs": [],
   "source": [
    "prediction = prediction .rename(columns = {0:'value'})"
   ]
  },
  {
   "cell_type": "markdown",
   "metadata": {},
   "source": [
    "смотрим, что она нам предсказала"
   ]
  },
  {
   "cell_type": "code",
   "execution_count": 16,
   "metadata": {},
   "outputs": [
    {
     "data": {
      "image/png": "[encoded data removed]",
      "text/plain": [
       "<Figure size 432x288 with 1 Axes>"
      ]
     },
     "metadata": {
      "needs_background": "light"
     },
     "output_type": "display_data"
    }
   ],
   "source": [
    "plt.figure()\n",
    "data_train['value'].plot(kind = 'line')\n",
    "data_test['value'].plot(kind = 'line')\n",
    "#plt.plot(data_forecaste, label = \"Prediction\")\n",
    "prediction['value'].plot(kind = 'line')\n",
    "plt.show()"
   ]
  },
  {
   "cell_type": "markdown",
   "metadata": {},
   "source": [
    "### Функция подсчета метрик для конкурса"
   ]
  },
  {
   "cell_type": "code",
   "execution_count": 17,
   "metadata": {},
   "outputs": [],
   "source": [
    "def MAPE(y_true, y_pred):\n",
    "    mape = np.abs(y_pred - y_true) / np.maximum(np.abs(y_true), 1e-6)\n",
    "    mape  = np.average(mape) * 100\n",
    "    return mape"
   ]
  },
  {
   "cell_type": "markdown",
   "metadata": {},
   "source": [
    "### MAPE для ARIMA и тестового сабмишена"
   ]
  },
  {
   "cell_type": "code",
   "execution_count": 18,
   "metadata": {},
   "outputs": [
    {
     "data": {
      "text/plain": [
       "39.83962687349625"
      ]
     },
     "execution_count": 18,
     "metadata": {},
     "output_type": "execute_result"
    }
   ],
   "source": [
    "MAPE(data_test, prediction)"
   ]
  },
  {
   "cell_type": "code",
   "execution_count": 19,
   "metadata": {},
   "outputs": [
    {
     "data": {
      "text/plain": [
       "44.81735178659308"
      ]
     },
     "execution_count": 19,
     "metadata": {},
     "output_type": "execute_result"
    }
   ],
   "source": [
    "MAPE(data_test, data_sample)"
   ]
  },
  {
   "cell_type": "markdown",
   "metadata": {},
   "source": [
    "## Из пандас строим датасет"
   ]
  },
  {
   "cell_type": "code",
   "execution_count": 52,
   "metadata": {},
   "outputs": [],
   "source": [
    "class Stats:\n",
    "    def __init__(self, dataset):\n",
    "        self.mean = np.mean(dataset)\n",
    "        self.std = np.std(dataset)\n",
    "        self.data = (dataset - self.mean) / self.std \n",
    "\n",
    "stats = Stats(data_train)"
   ]
  },
  {
   "cell_type": "code",
   "execution_count": 53,
   "metadata": {},
   "outputs": [],
   "source": [
    "class TSDataset(Dataset):\n",
    "    \n",
    "    def __init__(self, data, seq_len):\n",
    "        super().__init__()\n",
    "        # будем обучать окнами, поэтому сделаем отступ\n",
    "        self._len = len(data) - seq_len + 1\n",
    "        # также будем нормализовывать наши таргеты  \n",
    "        self.mean = stats.mean\n",
    "        self.std = stats.std\n",
    "        self.data = (data- self.mean) / self.std \n",
    "        self.seq_len = seq_len\n",
    "        \n",
    "    def __len__(self):\n",
    "        return self._len\n",
    "    \n",
    "    def __getitem__(self, idx):\n",
    "        d = self.data[idx:idx + self.seq_len]\n",
    "        targets = []\n",
    "        days   = []\n",
    "        months = []\n",
    "        year = []\n",
    "        for row in  d.iterrows():\n",
    "            targets += [ row[1]['value'] ]\n",
    "            days += [ row[0].day ]\n",
    "            months += [row[0].month]\n",
    "            year += [row[0].year]\n",
    "            \n",
    "        return torch.LongTensor(days), \\\n",
    "               torch.LongTensor(months), \\\n",
    "               torch.LongTensor(year), \\\n",
    "               torch.FloatTensor(targets)"
   ]
  },
  {
   "cell_type": "code",
   "execution_count": 58,
   "metadata": {},
   "outputs": [],
   "source": [
    "ds_train = TSDataset(data_train, 10) \n",
    "ds_test  = TSDataset(data_test, 10)"
   ]
  },
  {
   "cell_type": "markdown",
   "metadata": {},
   "source": [
    "## Теперь нужно определить нашу модель "
   ]
  },
  {
   "cell_type": "code",
   "execution_count": 67,
   "metadata": {},
   "outputs": [],
   "source": [
    "# нужно реализовать модель\n",
    "class TimeSeriesModel(nn.Module):\n",
    "    \n",
    "        def __init__(self, hidden_size, input_sizes):            \n",
    "            super().__init__()\n",
    "            pass\n",
    "            \n",
    "        def forward(self, batch, ctx = None):\n",
    "            pass\n",
    "            # возвращаем выход и контекст, в инкрементальном режиме генерации он нам потребуется\n",
    "            return output, ctx\n",
    "        "
   ]
  },
  {
   "cell_type": "markdown",
   "metadata": {},
   "source": [
    "### Определяем даталоадеры для теста и трейна"
   ]
  },
  {
   "cell_type": "code",
   "execution_count": 60,
   "metadata": {},
   "outputs": [],
   "source": [
    "dl_train = DataLoader(ds_train, 8 , True)\n",
    "dl_test = DataLoader(ds_test, 8 , False)"
   ]
  },
  {
   "cell_type": "code",
   "execution_count": 61,
   "metadata": {},
   "outputs": [],
   "source": [
    "series_model = TimeSeriesModel(32, (4,4))"
   ]
  },
  {
   "cell_type": "code",
   "execution_count": 62,
   "metadata": {},
   "outputs": [],
   "source": [
    "loss = nn.L1Loss()\n",
    "optimizer = Adam(series_model.parameters(), lr=1e-4)"
   ]
  },
  {
   "cell_type": "code",
   "execution_count": 63,
   "metadata": {},
   "outputs": [],
   "source": [
    "# инициализируем тензорборд, для вывода графиков\n",
    "writer = SummaryWriter(log_dir='./series_runs/')"
   ]
  },
  {
   "cell_type": "markdown",
   "metadata": {},
   "source": [
    "### Обучаем модель"
   ]
  },
  {
   "cell_type": "code",
   "execution_count": 64,
   "metadata": {},
   "outputs": [],
   "source": [
    "global_epoch = 0\n",
    "global_iter = 0"
   ]
  },
  {
   "cell_type": "code",
   "execution_count": 65,
   "metadata": {},
   "outputs": [],
   "source": [
    "# функция тестирование модели\n",
    "def test_model(epoch):\n",
    "    test_iter  = tqdm(dl_test)\n",
    "    sum_loss = 0\n",
    "    num_batches = 0\n",
    "    for i, batch in enumerate(test_iter):\n",
    "        # Чтобы сохранялась временная зависимость\n",
    "        # для предсказания таргет должен быть смешен на один временной шаг\n",
    "        # относительно входа модели\n",
    "        target = batch[-1][:, 1:]\n",
    "        result, _ = series_model(batch)\n",
    "        batch_loss = loss(result, target)\n",
    "        sum_loss += batch_loss\n",
    "        num_batches += 1\n",
    "    sum_loss /= num_batches\n",
    "    writer.add_scalar('Loss/val', sum_loss , epoch)\n",
    "    return sum_loss"
   ]
  },
  {
   "cell_type": "code",
   "execution_count": 66,
   "metadata": {
    "collapsed": true
   },
   "outputs": [
    {
     "name": "stderr",
     "output_type": "stream",
     "text": [
      "Epoch: 0000, Iter Loss: 0.7411: 100%|██████████| 134/134 [00:04<00:00, 29.49it/s]\n",
      "100%|██████████| 42/42 [00:00<00:00, 42.98it/s]\n",
      "Epoch: 0001, Iter Loss: 0.9718: 100%|██████████| 134/134 [00:04<00:00, 30.38it/s]\n",
      "100%|██████████| 42/42 [00:00<00:00, 43.34it/s]\n",
      "Epoch: 0002, Iter Loss: 0.7815: 100%|██████████| 134/134 [00:04<00:00, 30.70it/s]\n",
      "100%|██████████| 42/42 [00:00<00:00, 42.66it/s]\n",
      "Epoch: 0003, Iter Loss: 0.8742: 100%|██████████| 134/134 [00:04<00:00, 30.75it/s]\n",
      "100%|██████████| 42/42 [00:00<00:00, 43.32it/s]\n",
      "Epoch: 0004, Iter Loss: 0.8588: 100%|██████████| 134/134 [00:04<00:00, 30.46it/s]\n",
      "100%|██████████| 42/42 [00:00<00:00, 43.10it/s]\n",
      "Epoch: 0005, Iter Loss: 0.6942: 100%|██████████| 134/134 [00:04<00:00, 30.61it/s]\n",
      "100%|██████████| 42/42 [00:00<00:00, 43.19it/s]\n",
      "Epoch: 0006, Iter Loss: 0.6133: 100%|██████████| 134/134 [00:04<00:00, 29.54it/s]\n",
      "100%|██████████| 42/42 [00:00<00:00, 43.27it/s]\n",
      "Epoch: 0007, Iter Loss: 0.6754: 100%|██████████| 134/134 [00:04<00:00, 30.47it/s]\n",
      "100%|██████████| 42/42 [00:00<00:00, 43.38it/s]\n",
      "Epoch: 0008, Iter Loss: 0.7539: 100%|██████████| 134/134 [00:04<00:00, 30.56it/s]\n",
      "100%|██████████| 42/42 [00:00<00:00, 42.73it/s]\n",
      "Epoch: 0009, Iter Loss: 0.6201: 100%|██████████| 134/134 [00:04<00:00, 30.63it/s]\n",
      "100%|██████████| 42/42 [00:00<00:00, 43.30it/s]\n",
      "Epoch: 0010, Iter Loss: 0.6412: 100%|██████████| 134/134 [00:04<00:00, 30.53it/s]\n",
      "100%|██████████| 42/42 [00:00<00:00, 43.14it/s]\n",
      "Epoch: 0011, Iter Loss: 0.7791: 100%|██████████| 134/134 [00:04<00:00, 30.58it/s]\n",
      "100%|██████████| 42/42 [00:00<00:00, 43.44it/s]\n",
      "Epoch: 0012, Iter Loss: 0.5391: 100%|██████████| 134/134 [00:04<00:00, 30.60it/s]\n",
      "100%|██████████| 42/42 [00:00<00:00, 43.36it/s]\n",
      "Epoch: 0013, Iter Loss: 0.5790: 100%|██████████| 134/134 [00:04<00:00, 30.71it/s]\n",
      "100%|██████████| 42/42 [00:00<00:00, 43.53it/s]\n",
      "Epoch: 0014, Iter Loss: 0.5597: 100%|██████████| 134/134 [00:04<00:00, 30.54it/s]\n",
      "100%|██████████| 42/42 [00:00<00:00, 43.53it/s]\n",
      "Epoch: 0015, Iter Loss: 0.5517: 100%|██████████| 134/134 [00:04<00:00, 30.22it/s]\n",
      "100%|██████████| 42/42 [00:00<00:00, 43.19it/s]\n",
      "Epoch: 0016, Iter Loss: 0.4560: 100%|██████████| 134/134 [00:04<00:00, 30.16it/s]\n",
      "100%|██████████| 42/42 [00:00<00:00, 42.86it/s]\n",
      "Epoch: 0017, Iter Loss: 0.4380: 100%|██████████| 134/134 [00:04<00:00, 30.35it/s]\n",
      "100%|██████████| 42/42 [00:00<00:00, 42.97it/s]\n",
      "Epoch: 0018, Iter Loss: 0.3931: 100%|██████████| 134/134 [00:04<00:00, 29.63it/s]\n",
      "100%|██████████| 42/42 [00:00<00:00, 43.02it/s]\n",
      "Epoch: 0019, Iter Loss: 0.3643: 100%|██████████| 134/134 [00:04<00:00, 30.29it/s]\n",
      "100%|██████████| 42/42 [00:00<00:00, 43.48it/s]\n",
      "Epoch: 0020, Iter Loss: 0.3645: 100%|██████████| 134/134 [00:04<00:00, 30.37it/s]\n",
      "100%|██████████| 42/42 [00:00<00:00, 43.34it/s]\n",
      "Epoch: 0021, Iter Loss: 0.4380: 100%|██████████| 134/134 [00:04<00:00, 30.40it/s]\n",
      "100%|██████████| 42/42 [00:00<00:00, 42.55it/s]\n",
      "Epoch: 0022, Iter Loss: 0.3242: 100%|██████████| 134/134 [00:04<00:00, 30.16it/s]\n",
      "100%|██████████| 42/42 [00:00<00:00, 42.94it/s]\n",
      "Epoch: 0023, Iter Loss: 0.3385: 100%|██████████| 134/134 [00:04<00:00, 30.19it/s]\n",
      "100%|██████████| 42/42 [00:00<00:00, 43.20it/s]\n",
      "Epoch: 0024, Iter Loss: 0.2414: 100%|██████████| 134/134 [00:04<00:00, 30.23it/s]\n",
      "100%|██████████| 42/42 [00:00<00:00, 42.94it/s]\n",
      "Epoch: 0025, Iter Loss: 0.3276: 100%|██████████| 134/134 [00:04<00:00, 30.19it/s]\n",
      "100%|██████████| 42/42 [00:00<00:00, 42.92it/s]\n",
      "Epoch: 0026, Iter Loss: 0.2575: 100%|██████████| 134/134 [00:04<00:00, 30.07it/s]\n",
      "100%|██████████| 42/42 [00:01<00:00, 41.40it/s]\n",
      "Epoch: 0027, Iter Loss: 0.2925: 100%|██████████| 134/134 [00:04<00:00, 30.10it/s]\n",
      "100%|██████████| 42/42 [00:00<00:00, 42.95it/s]\n",
      "Epoch: 0028, Iter Loss: 0.1803: 100%|██████████| 134/134 [00:04<00:00, 30.23it/s]\n",
      "100%|██████████| 42/42 [00:00<00:00, 43.08it/s]\n",
      "Epoch: 0029, Iter Loss: 0.2362: 100%|██████████| 134/134 [00:04<00:00, 30.14it/s]\n",
      "100%|██████████| 42/42 [00:00<00:00, 43.25it/s]\n",
      "Epoch: 0030, Iter Loss: 0.2238: 100%|██████████| 134/134 [00:04<00:00, 30.19it/s]\n",
      "100%|██████████| 42/42 [00:00<00:00, 42.96it/s]\n",
      "Epoch: 0031, Iter Loss: 0.2255: 100%|██████████| 134/134 [00:04<00:00, 30.31it/s]\n",
      "100%|██████████| 42/42 [00:00<00:00, 43.24it/s]\n",
      "Epoch: 0032, Iter Loss: 0.2641: 100%|██████████| 134/134 [00:04<00:00, 30.50it/s]\n",
      "100%|██████████| 42/42 [00:00<00:00, 43.14it/s]\n",
      "Epoch: 0033, Iter Loss: 0.1917: 100%|██████████| 134/134 [00:04<00:00, 30.21it/s]\n",
      "100%|██████████| 42/42 [00:00<00:00, 43.03it/s]\n",
      "Epoch: 0034, Iter Loss: 0.2356: 100%|██████████| 134/134 [00:04<00:00, 30.24it/s]\n",
      "100%|██████████| 42/42 [00:00<00:00, 43.20it/s]\n",
      "Epoch: 0035, Iter Loss: 0.3294: 100%|██████████| 134/134 [00:04<00:00, 30.09it/s]\n",
      "100%|██████████| 42/42 [00:00<00:00, 43.44it/s]\n",
      "Epoch: 0036, Iter Loss: 0.1427: 100%|██████████| 134/134 [00:04<00:00, 30.68it/s]\n",
      "100%|██████████| 42/42 [00:00<00:00, 43.35it/s]\n",
      "Epoch: 0037, Iter Loss: 0.2650: 100%|██████████| 134/134 [00:04<00:00, 30.38it/s]\n",
      "100%|██████████| 42/42 [00:00<00:00, 43.00it/s]\n",
      "Epoch: 0038, Iter Loss: 0.2605: 100%|██████████| 134/134 [00:04<00:00, 29.99it/s]\n",
      "100%|██████████| 42/42 [00:00<00:00, 43.30it/s]\n",
      "Epoch: 0039, Iter Loss: 0.2717: 100%|██████████| 134/134 [00:04<00:00, 29.46it/s]\n",
      "100%|██████████| 42/42 [00:00<00:00, 42.99it/s]\n",
      "Epoch: 0040, Iter Loss: 0.2775: 100%|██████████| 134/134 [00:04<00:00, 30.32it/s]\n",
      "100%|██████████| 42/42 [00:00<00:00, 43.28it/s]\n",
      "Epoch: 0041, Iter Loss: 0.2153: 100%|██████████| 134/134 [00:04<00:00, 30.44it/s]\n",
      "100%|██████████| 42/42 [00:00<00:00, 43.36it/s]\n",
      "Epoch: 0042, Iter Loss: 0.3201: 100%|██████████| 134/134 [00:04<00:00, 29.76it/s]\n",
      "100%|██████████| 42/42 [00:01<00:00, 41.77it/s]\n",
      "Epoch: 0043, Iter Loss: 0.1790: 100%|██████████| 134/134 [00:04<00:00, 29.74it/s]\n",
      "100%|██████████| 42/42 [00:00<00:00, 42.91it/s]\n",
      "Epoch: 0044, Iter Loss: 0.1786: 100%|██████████| 134/134 [00:04<00:00, 29.41it/s]\n",
      "100%|██████████| 42/42 [00:00<00:00, 43.45it/s]\n",
      "Epoch: 0045, Iter Loss: 0.2204: 100%|██████████| 134/134 [00:04<00:00, 30.18it/s]\n",
      "100%|██████████| 42/42 [00:01<00:00, 41.31it/s]\n",
      "Epoch: 0046, Iter Loss: 0.1830: 100%|██████████| 134/134 [00:04<00:00, 29.95it/s]\n",
      "100%|██████████| 42/42 [00:00<00:00, 43.20it/s]\n",
      "Epoch: 0047, Iter Loss: 0.2521: 100%|██████████| 134/134 [00:04<00:00, 30.15it/s]\n",
      "100%|██████████| 42/42 [00:00<00:00, 43.20it/s]\n",
      "Epoch: 0048, Iter Loss: 0.2153: 100%|██████████| 134/134 [00:04<00:00, 30.34it/s]\n",
      "100%|██████████| 42/42 [00:00<00:00, 42.54it/s]\n",
      "Epoch: 0049, Iter Loss: 0.1743: 100%|██████████| 134/134 [00:04<00:00, 29.95it/s]\n",
      "100%|██████████| 42/42 [00:00<00:00, 42.92it/s]\n",
      "Epoch: 0050, Iter Loss: 0.2437: 100%|██████████| 134/134 [00:04<00:00, 30.17it/s]\n",
      "100%|██████████| 42/42 [00:00<00:00, 42.60it/s]\n",
      "Epoch: 0051, Iter Loss: 0.2000: 100%|██████████| 134/134 [00:04<00:00, 30.36it/s]\n",
      "100%|██████████| 42/42 [00:00<00:00, 43.14it/s]\n",
      "Epoch: 0052, Iter Loss: 0.1352: 100%|██████████| 134/134 [00:04<00:00, 30.31it/s]\n",
      "100%|██████████| 42/42 [00:00<00:00, 43.07it/s]\n",
      "Epoch: 0053, Iter Loss: 0.1739: 100%|██████████| 134/134 [00:04<00:00, 30.20it/s]\n",
      "100%|██████████| 42/42 [00:00<00:00, 43.25it/s]\n",
      "Epoch: 0054, Iter Loss: 0.3104: 100%|██████████| 134/134 [00:04<00:00, 30.36it/s]\n",
      "100%|██████████| 42/42 [00:00<00:00, 42.99it/s]\n",
      "Epoch: 0055, Iter Loss: 0.2903: 100%|██████████| 134/134 [00:04<00:00, 30.32it/s]\n",
      "100%|██████████| 42/42 [00:00<00:00, 43.22it/s]\n",
      "Epoch: 0056, Iter Loss: 0.2391: 100%|██████████| 134/134 [00:04<00:00, 29.46it/s]\n",
      "100%|██████████| 42/42 [00:00<00:00, 42.38it/s]\n",
      "Epoch: 0057, Iter Loss: 0.2630: 100%|██████████| 134/134 [00:04<00:00, 30.15it/s]\n",
      "100%|██████████| 42/42 [00:00<00:00, 43.14it/s]\n",
      "Epoch: 0058, Iter Loss: 0.2145: 100%|██████████| 134/134 [00:04<00:00, 30.28it/s]\n",
      "100%|██████████| 42/42 [00:00<00:00, 43.31it/s]\n",
      "Epoch: 0059, Iter Loss: 0.1779: 100%|██████████| 134/134 [00:04<00:00, 30.06it/s]\n",
      "100%|██████████| 42/42 [00:00<00:00, 42.40it/s]\n",
      "Epoch: 0060, Iter Loss: 0.1612: 100%|██████████| 134/134 [00:04<00:00, 30.26it/s]\n",
      "100%|██████████| 42/42 [00:00<00:00, 43.36it/s]\n",
      "Epoch: 0061, Iter Loss: 0.1624: 100%|██████████| 134/134 [00:04<00:00, 30.37it/s]\n",
      "100%|██████████| 42/42 [00:00<00:00, 42.59it/s]\n",
      "Epoch: 0062, Iter Loss: 0.1498: 100%|██████████| 134/134 [00:04<00:00, 30.21it/s]\n",
      "100%|██████████| 42/42 [00:00<00:00, 43.09it/s]\n",
      "Epoch: 0063, Iter Loss: 0.2060: 100%|██████████| 134/134 [00:04<00:00, 30.35it/s]\n",
      "100%|██████████| 42/42 [00:00<00:00, 42.97it/s]\n",
      "Epoch: 0064, Iter Loss: 0.1241: 100%|██████████| 134/134 [00:04<00:00, 30.15it/s]\n",
      "100%|██████████| 42/42 [00:00<00:00, 42.81it/s]\n",
      "Epoch: 0065, Iter Loss: 0.1803: 100%|██████████| 134/134 [00:04<00:00, 30.42it/s]\n",
      "100%|██████████| 42/42 [00:00<00:00, 43.36it/s]\n",
      "Epoch: 0066, Iter Loss: 0.1801: 100%|██████████| 134/134 [00:04<00:00, 30.28it/s]\n",
      "100%|██████████| 42/42 [00:00<00:00, 43.31it/s]\n",
      "Epoch: 0067, Iter Loss: 0.1682: 100%|██████████| 134/134 [00:04<00:00, 30.42it/s]\n",
      "100%|██████████| 42/42 [00:00<00:00, 43.08it/s]\n",
      "Epoch: 0068, Iter Loss: 0.2701: 100%|██████████| 134/134 [00:04<00:00, 29.60it/s]\n",
      "100%|██████████| 42/42 [00:00<00:00, 42.90it/s]\n",
      "Epoch: 0069, Iter Loss: 0.2173: 100%|██████████| 134/134 [00:04<00:00, 30.02it/s]\n",
      "100%|██████████| 42/42 [00:00<00:00, 42.73it/s]\n",
      "Epoch: 0070, Iter Loss: 0.2620: 100%|██████████| 134/134 [00:04<00:00, 30.11it/s]\n",
      "100%|██████████| 42/42 [00:00<00:00, 42.71it/s]\n",
      "Epoch: 0071, Iter Loss: 0.2662: 100%|██████████| 134/134 [00:04<00:00, 29.71it/s]\n",
      "100%|██████████| 42/42 [00:00<00:00, 42.63it/s]\n",
      "Epoch: 0072, Iter Loss: 0.1374: 100%|██████████| 134/134 [00:04<00:00, 30.29it/s]\n",
      "100%|██████████| 42/42 [00:00<00:00, 43.19it/s]\n",
      "Epoch: 0073, Iter Loss: 0.1449: 100%|██████████| 134/134 [00:04<00:00, 30.40it/s]\n",
      "100%|██████████| 42/42 [00:00<00:00, 43.12it/s]\n",
      "Epoch: 0074, Iter Loss: 0.1731: 100%|██████████| 134/134 [00:04<00:00, 30.21it/s]\n",
      "100%|██████████| 42/42 [00:00<00:00, 43.21it/s]\n",
      "Epoch: 0075, Iter Loss: 0.1538: 100%|██████████| 134/134 [00:04<00:00, 30.50it/s]\n",
      "100%|██████████| 42/42 [00:00<00:00, 43.26it/s]\n",
      "Epoch: 0076, Iter Loss: 0.2053: 100%|██████████| 134/134 [00:04<00:00, 30.26it/s]\n",
      "100%|██████████| 42/42 [00:00<00:00, 43.46it/s]\n",
      "Epoch: 0077, Iter Loss: 0.1927: 100%|██████████| 134/134 [00:04<00:00, 30.40it/s]\n",
      "100%|██████████| 42/42 [00:00<00:00, 43.05it/s]\n",
      "Epoch: 0078, Iter Loss: 0.2136: 100%|██████████| 134/134 [00:04<00:00, 30.12it/s]\n",
      "100%|██████████| 42/42 [00:00<00:00, 43.16it/s]\n",
      "Epoch: 0079, Iter Loss: 0.1546: 100%|██████████| 134/134 [00:04<00:00, 29.65it/s]\n",
      "100%|██████████| 42/42 [00:00<00:00, 42.50it/s]\n",
      "Epoch: 0080, Iter Loss: 0.1709: 100%|██████████| 134/134 [00:04<00:00, 30.02it/s]\n",
      "100%|██████████| 42/42 [00:00<00:00, 42.35it/s]\n",
      "Epoch: 0081, Iter Loss: 0.1768: 100%|██████████| 134/134 [00:04<00:00, 29.97it/s]\n",
      "100%|██████████| 42/42 [00:00<00:00, 43.04it/s]\n",
      "Epoch: 0082, Iter Loss: 0.1523: 100%|██████████| 134/134 [00:04<00:00, 29.68it/s]\n",
      "100%|██████████| 42/42 [00:00<00:00, 43.01it/s]\n",
      "Epoch: 0083, Iter Loss: 0.1099: 100%|██████████| 134/134 [00:04<00:00, 29.86it/s]\n",
      "100%|██████████| 42/42 [00:00<00:00, 42.97it/s]\n",
      "Epoch: 0084, Iter Loss: 0.2114: 100%|██████████| 134/134 [00:04<00:00, 29.02it/s]\n",
      "100%|██████████| 42/42 [00:00<00:00, 43.01it/s]\n",
      "Epoch: 0085, Iter Loss: 0.1844: 100%|██████████| 134/134 [00:04<00:00, 29.82it/s]\n",
      "100%|██████████| 42/42 [00:00<00:00, 43.04it/s]\n",
      "Epoch: 0086, Iter Loss: 0.1643: 100%|██████████| 134/134 [00:04<00:00, 29.63it/s]\n",
      "100%|██████████| 42/42 [00:00<00:00, 42.97it/s]\n",
      "Epoch: 0087, Iter Loss: 0.1083: 100%|██████████| 134/134 [00:04<00:00, 29.89it/s]\n",
      "100%|██████████| 42/42 [00:00<00:00, 43.30it/s]\n",
      "Epoch: 0088, Iter Loss: 0.1151: 100%|██████████| 134/134 [00:04<00:00, 29.74it/s]\n",
      "100%|██████████| 42/42 [00:00<00:00, 43.29it/s]\n",
      "Epoch: 0089, Iter Loss: 0.1708: 100%|██████████| 134/134 [00:04<00:00, 30.22it/s]\n",
      "100%|██████████| 42/42 [00:00<00:00, 43.05it/s]\n",
      "Epoch: 0090, Iter Loss: 0.2478: 100%|██████████| 134/134 [00:04<00:00, 30.03it/s]\n",
      "100%|██████████| 42/42 [00:00<00:00, 43.56it/s]\n",
      "Epoch: 0091, Iter Loss: 0.1538: 100%|██████████| 134/134 [00:04<00:00, 30.23it/s]\n",
      "100%|██████████| 42/42 [00:00<00:00, 42.60it/s]\n",
      "Epoch: 0092, Iter Loss: 0.1552: 100%|██████████| 134/134 [00:04<00:00, 30.29it/s]\n",
      "100%|██████████| 42/42 [00:00<00:00, 43.26it/s]\n",
      "Epoch: 0093, Iter Loss: 0.0712: 100%|██████████| 134/134 [00:04<00:00, 29.09it/s]\n",
      "100%|██████████| 42/42 [00:00<00:00, 43.19it/s]\n",
      "Epoch: 0094, Iter Loss: 0.1187: 100%|██████████| 134/134 [00:04<00:00, 30.00it/s]\n",
      "100%|██████████| 42/42 [00:00<00:00, 43.32it/s]\n",
      "Epoch: 0095, Iter Loss: 0.1667: 100%|██████████| 134/134 [00:04<00:00, 29.92it/s]\n",
      "100%|██████████| 42/42 [00:00<00:00, 43.13it/s]\n",
      "Epoch: 0096, Iter Loss: 0.2074: 100%|██████████| 134/134 [00:04<00:00, 30.06it/s]\n",
      "100%|██████████| 42/42 [00:00<00:00, 43.01it/s]\n",
      "Epoch: 0097, Iter Loss: 0.1528: 100%|██████████| 134/134 [00:04<00:00, 30.11it/s]\n",
      "100%|██████████| 42/42 [00:00<00:00, 43.19it/s]\n",
      "Epoch: 0098, Iter Loss: 0.2014: 100%|██████████| 134/134 [00:04<00:00, 30.11it/s]\n",
      "100%|██████████| 42/42 [00:00<00:00, 43.49it/s]\n",
      "Epoch: 0099, Iter Loss: 0.1465: 100%|██████████| 134/134 [00:04<00:00, 29.92it/s]\n",
      "100%|██████████| 42/42 [00:00<00:00, 43.29it/s]\n"
     ]
    }
   ],
   "source": [
    "# модель обучаем в режиме teacher forcing, т.е. на вход подаем сразу всю последовательность,\n",
    "# на выходе таргет должен быть смещен на один временной шаг, чтобы правильно считался лосс\n",
    "for epoch in range(0, 100):\n",
    "    epoch_iter = tqdm(dl_train)\n",
    "    series_model.train()\n",
    "    for batch in epoch_iter:\n",
    "        optimizer.zero_grad()\n",
    "        # Чтобы сохранялась временная зависимость\n",
    "        # для предсказания таргет должен быть смешен на один временной шаг\n",
    "        # относительно входа модели\n",
    "        target = batch[-1][:,1:]\n",
    "        result, _ = series_model(batch)        \n",
    "        batch_loss = loss(result, target)\n",
    "        batch_loss.backward()\n",
    "        epoch_iter.set_description(\"Epoch: %04d, Iter Loss: %.4f\"  %(epoch, batch_loss))\n",
    "        optimizer.step()\n",
    "        writer.add_scalar('Loss/train', batch_loss , global_iter)\n",
    "        global_iter += 1\n",
    "    # тестируем модель\n",
    "    with torch.no_grad():\n",
    "        series_model.eval()\n",
    "        test_model(global_epoch)\n",
    "    global_epoch += 1"
   ]
  },
  {
   "cell_type": "code",
   "execution_count": 42,
   "metadata": {},
   "outputs": [],
   "source": [
    "# сохраняем модель\n",
    "torch.save(series_model.state_dict(), 'series_model2.ptx')"
   ]
  },
  {
   "cell_type": "code",
   "execution_count": 43,
   "metadata": {},
   "outputs": [
    {
     "data": {
      "text/plain": [
       "<All keys matched successfully>"
      ]
     },
     "execution_count": 43,
     "metadata": {},
     "output_type": "execute_result"
    }
   ],
   "source": [
    "# восстанавливаем модель\n",
    "series_model = TimeSeriesModel(32, (4,4))\n",
    "series_model.load_state_dict(torch.load('series_model2.ptx'))"
   ]
  },
  {
   "cell_type": "markdown",
   "metadata": {},
   "source": [
    "### TODO\n",
    "Теперь нам нужно для нашего тестового сета сгенерировать результат, и сделать правильный сабмишен. В отличии от режима обучения мы не должгны использовать значения таргетов в тесте, поэтому нам придется тут реализовывать инкрементальный режим генерации сети, т.е. когда на вход подаются фичи и таргет с предыдущего шага на каждоим шаге генерации."
   ]
  },
  {
   "cell_type": "code",
   "execution_count": null,
   "metadata": {},
   "outputs": [],
   "source": []
  }
 ],
 "metadata": {
  "kernelspec": {
   "display_name": "Python 3",
   "language": "python",
   "name": "python3"
  },
  "language_info": {
   "codemirror_mode": {
    "name": "ipython",
    "version": 3
   },
   "file_extension": ".py",
   "mimetype": "text/x-python",
   "name": "python",
   "nbconvert_exporter": "python",
   "pygments_lexer": "ipython3",
   "version": "3.8.5"
  }
 },
 "nbformat": 4,
 "nbformat_minor": 4
}
