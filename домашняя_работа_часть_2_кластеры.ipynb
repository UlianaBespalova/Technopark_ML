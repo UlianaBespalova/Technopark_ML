{
 "cells": [
  {
   "cell_type": "code",
   "execution_count": null,
   "metadata": {},
   "outputs": [],
   "source": [
    "# Разбила на две части, т.к. почему-то лагало"
   ]
  },
  {
   "cell_type": "markdown",
   "metadata": {},
   "source": [
    "### 1. Импорт библиотек"
   ]
  },
  {
   "cell_type": "code",
   "execution_count": null,
   "metadata": {},
   "outputs": [],
   "source": [
    "import pandas as pd\n",
    "import numpy as np\n",
    "\n",
    "import seaborn as sns\n",
    "# import plotly.express as px\n",
    "# import plotly.graph_objects as go\n",
    "import matplotlib.pyplot as plt\n",
    "import matplotlib.ticker as ticker\n",
    "\n",
    "from sklearn.decomposition import TruncatedSVD\n",
    "from sklearn.neighbors import NearestNeighbors\n",
    "from sklearn.model_selection import train_test_split\n",
    "from sklearn.preprocessing import StandardScaler\n",
    "from sklearn.feature_selection import SelectKBest,chi2,RFE\n",
    "from sklearn.ensemble import RandomForestClassifier\n",
    "from sklearn.metrics import accuracy_score, silhouette_score\n",
    "from sklearn.tree import DecisionTreeClassifier, export_graphviz\n",
    "from sklearn.cluster import KMeans\n",
    "\n",
    "from scipy.sparse import csr_matrix\n",
    "\n",
    "from pylab import rcParams\n",
    "\n",
    "import datetime as dt\n",
    "\n",
    "import warnings\n",
    "warnings.filterwarnings('ignore')\n",
    "\n",
    "import math, random\n",
    "from collections import defaultdict, Counter\n",
    "\n",
    "import datetime as dt\n",
    "\n",
    "%matplotlib inline\n",
    "\n",
    "# графики в svg выглядят более четкими\n",
    "%config InlineBackend.figure_format = 'svg'\n",
    "\n",
    "import warnings\n",
    "warnings.filterwarnings('ignore')\n",
    "\n",
    "# увеличим дефолтный размер графиков\n",
    "from pylab import rcParams\n",
    "\n",
    "rcParams[\"figure.figsize\"] = 10, 6\n",
    "sns.set_style(\"whitegrid\", {'axes.grid' : True})"
   ]
  },
  {
   "cell_type": "markdown",
   "metadata": {},
   "source": [
    "### 2. Кластеры"
   ]
  },
  {
   "cell_type": "code",
   "execution_count": null,
   "metadata": {},
   "outputs": [],
   "source": [
    "# Берём тут подготовленный датасет из первой части\n",
    "df = pd.read_csv('df.csv', sep='\\t')\n",
    "df.head()"
   ]
  },
  {
   "cell_type": "code",
   "execution_count": null,
   "metadata": {},
   "outputs": [],
   "source": [
    "# Ещё раз: значимые данные здесь только сумма и дата\\время, остальное либо айдишники, либо константные значения"
   ]
  },
  {
   "cell_type": "code",
   "execution_count": null,
   "metadata": {},
   "outputs": [],
   "source": [
    "scaling = StandardScaler()\n",
    "\n",
    "scaling.fit(df[['Сумма', 'Месяц', 'Час']]) \n",
    "scaled_df=scaling.transform(df[['Сумма', 'Месяц', 'Час']])\n",
    "\n",
    "scaled_df = pd.DataFrame(scaled_df)\n",
    "scaled_df.columns = ['Сумма', 'Месяц', 'Час']"
   ]
  },
  {
   "cell_type": "code",
   "execution_count": null,
   "metadata": {},
   "outputs": [],
   "source": [
    "wcss = []\n",
    "silhouette_scr = [] \n",
    "\n",
    "# Убираем выбросы (несколько значений, где сумма сильно больше)\n",
    "x = scaled_df[scaled_df['Сумма']<=20]\n",
    "\n",
    "for i in range(2, 11):\n",
    "    kmeans = KMeans(n_clusters=i, init='k-means++', random_state=42)\n",
    "    preds = kmeans.fit_predict(x)\n",
    "    wcss.append(kmeans.inertia_)\n",
    "    score = silhouette_score(x, preds)\n",
    "    silhouette_scr.append(score)\n",
    "    \n",
    "plt.subplot(1, 2, 1)\n",
    "plt.plot(range(2, 11), wcss, marker='o')\n",
    "plt.title('Метод локтя')\n",
    "\n",
    "plt.subplot(1, 2, 2)\n",
    "plt.plot(range(2, 11), silhouette_scr, marker='o')\n",
    "plt.title('Метод силуэта')\n",
    "\n",
    "plt.show() "
   ]
  },
  {
   "cell_type": "code",
   "execution_count": null,
   "metadata": {},
   "outputs": [],
   "source": [
    "# Согласно метрикам, более-менее оптимальное количество кластеров равно 6"
   ]
  },
  {
   "cell_type": "code",
   "execution_count": null,
   "metadata": {},
   "outputs": [],
   "source": []
  },
  {
   "cell_type": "code",
   "execution_count": null,
   "metadata": {},
   "outputs": [],
   "source": [
    "#features = X_train.columns\n",
    "\n",
    "kmeans = KMeans(n_clusters=6, init='k-means++', random_state=42)\n",
    "kmeans.fit(x)\n",
    "segment_kmeans = kmeans.fit_predict(x)\n",
    "\n",
    "df_clusters = pd.DataFrame(x)\n",
    "\n",
    "df_clusters['segment_kmeans'] = segment_kmeans\n",
    "df_clusters['segment_kmeans'].value_counts() #посмотрим размеры получившихся кластеров"
   ]
  },
  {
   "cell_type": "code",
   "execution_count": null,
   "metadata": {},
   "outputs": [],
   "source": [
    "sns.set(rc={'figure.figsize':(10,5)}, style='ticks')\n",
    "\n",
    "fig, ax = plt.subplots(1,2)\n",
    "\n",
    "\n",
    "ax[0].set_xlabel('Компонента 0')\n",
    "ax[0].set_ylabel('Компонента 1')\n",
    "sns.scatterplot(\n",
    "                x=df_clusters['Сумма'], y=df_clusters[\"Месяц\"], \n",
    "                hue=df_clusters['segment_kmeans'],ax=ax[0])\n",
    "\n",
    "ax[0].set_xlabel('Компонента 2')\n",
    "ax[0].set_ylabel('Компонента 1')\n",
    "\n",
    "sns.scatterplot(\n",
    "                x=df_clusters[\"Сумма\"], y=df_clusters[\"Час\"], \n",
    "                hue=df_clusters['segment_kmeans'],  ax=ax[1])\n",
    "fig.show()"
   ]
  },
  {
   "cell_type": "code",
   "execution_count": null,
   "metadata": {},
   "outputs": [],
   "source": []
  },
  {
   "cell_type": "code",
   "execution_count": null,
   "metadata": {},
   "outputs": [],
   "source": [
    "# Попробуем проверисти кластеризацию с помощью DBSCAN"
   ]
  },
  {
   "cell_type": "code",
   "execution_count": null,
   "metadata": {},
   "outputs": [],
   "source": [
    "from sklearn.cluster import DBSCAN\n",
    "from collections import Counter\n",
    "from sklearn.neighbors import NearestNeighbors"
   ]
  },
  {
   "cell_type": "code",
   "execution_count": null,
   "metadata": {},
   "outputs": [],
   "source": [
    "min_pts = 50\n",
    "nn = NearestNeighbors(n_neighbors = min_pts, metric='cosine')\n",
    "nn.fit(x)\n",
    "\n",
    "dist, _ = nn.kneighbors(x)"
   ]
  },
  {
   "cell_type": "code",
   "execution_count": null,
   "metadata": {},
   "outputs": [],
   "source": [
    "dist_last = dist[:, -1]\n",
    "dist_last = np.sort(dist_last)\n",
    "\n",
    "plt.figure(figsize = (8,5))\n",
    "plt.plot(dist_last[:-1000]) # Последние 9000 сильно большие, их отрезаем, чтобы на графичке был лучше виден изгиб\n",
    "# (Важно найти такое расстояние (ось у), при котором график только начинает возрастать)"
   ]
  },
  {
   "cell_type": "code",
   "execution_count": null,
   "metadata": {},
   "outputs": [],
   "source": [
    "# По графику можем определить расстояние, на котором находятся близкие соседи (до изгиба)\n",
    "# Примем его за окрестность \n",
    "eps = 0.01\n",
    "\n",
    "clustering = DBSCAN(eps = eps, min_samples=min_pts, metric='cosine', n_jobs=-1).fit_predict(x)"
   ]
  },
  {
   "cell_type": "code",
   "execution_count": null,
   "metadata": {},
   "outputs": [],
   "source": [
    "df_clusters['segment_dbscan'] = clustering\n",
    "df_clusters['segment_dbscan'].value_counts() "
   ]
  },
  {
   "cell_type": "code",
   "execution_count": null,
   "metadata": {},
   "outputs": [],
   "source": [
    "sns.set(rc={'figure.figsize':(10,5)}, style='ticks')\n",
    "\n",
    "fig, ax = plt.subplots(1,2)\n",
    "\n",
    "\n",
    "ax[0].set_xlabel('Компонента 0')\n",
    "ax[0].set_ylabel('Компонента 1')\n",
    "sns.scatterplot(\n",
    "                x=df_clusters['Сумма'], y=df_clusters[\"Месяц\"], \n",
    "                hue=df_clusters['segment_dbscan'],ax=ax[0])\n",
    "\n",
    "ax[0].set_xlabel('Компонента 2')\n",
    "ax[0].set_ylabel('Компонента 1')\n",
    "\n",
    "sns.scatterplot(\n",
    "                x=df_clusters[\"Сумма\"], y=df_clusters[\"Час\"], \n",
    "                hue=df_clusters['segment_dbscan'],  ax=ax[1])\n",
    "fig.show()"
   ]
  },
  {
   "cell_type": "code",
   "execution_count": null,
   "metadata": {},
   "outputs": [],
   "source": []
  },
  {
   "cell_type": "code",
   "execution_count": null,
   "metadata": {},
   "outputs": [],
   "source": []
  },
  {
   "cell_type": "markdown",
   "metadata": {},
   "source": [
    "### 7. Важные признаки"
   ]
  },
  {
   "cell_type": "code",
   "execution_count": null,
   "metadata": {},
   "outputs": [],
   "source": [
    "# Таргет Сумма - непрерывное значение. Для оценки признаков нужны классы, поэтому сведем цену к нескольким диапазонам\n",
    "\n",
    "def bucketer(y):\n",
    "    if y < 1000:\n",
    "        return 0\n",
    "    if y < 3000:\n",
    "        return 1\n",
    "    if y < 5000:\n",
    "        return 2\n",
    "    if y < 7000:\n",
    "        return 3\n",
    "    if y < 9000:\n",
    "        return 4\n",
    "    if y < 11000:\n",
    "        return 5\n",
    "    if y < 13000:\n",
    "        return 6\n",
    "    if y < 15000:\n",
    "        return 7\n",
    "    if y < 17000:\n",
    "        return 8\n",
    "    return 9\n",
    "    \n",
    "y = df['Сумма'].apply(lambda x: bucketer(x))\n",
    "y.value_counts()"
   ]
  },
  {
   "cell_type": "code",
   "execution_count": null,
   "metadata": {},
   "outputs": [],
   "source": [
    "#Критерий согласия Хи-квадрат Пирсона\n",
    "\n",
    "from sklearn.feature_selection import SelectKBest\n",
    "from sklearn.feature_selection import chi2\n",
    "\n",
    "x = df[['Месяц', 'Час']]\n",
    "\n",
    "fit = SelectKBest(score_func = chi2, k = 'all').fit(x, y)\n",
    "dfscores = pd.DataFrame(fit.scores_)\n",
    "dfcolumns = pd.DataFrame(x.columns)\n",
    "\n",
    "featureScores = pd.concat([dfcolumns, dfscores], axis = 1)\n",
    "featureScores.columns = ['Specs', 'Score']  \n",
    "featureScores"
   ]
  },
  {
   "cell_type": "code",
   "execution_count": null,
   "metadata": {},
   "outputs": [],
   "source": []
  },
  {
   "cell_type": "code",
   "execution_count": null,
   "metadata": {},
   "outputs": [],
   "source": [
    "# Заодно оценим важность признаков с помощью леса\n",
    "# (когда всего два признака, результат неинтересный, но почему бы и нет)"
   ]
  },
  {
   "cell_type": "code",
   "execution_count": null,
   "metadata": {},
   "outputs": [],
   "source": [
    "param_grid = { \n",
    "    'n_estimators': [10, 20, 50],\n",
    "    'max_features': ['auto', 'sqrt', 'log2'],\n",
    "    'max_depth' : [4,5,6,8],\n",
    "    'criterion' :['gini', 'entropy']\n",
    "}"
   ]
  },
  {
   "cell_type": "code",
   "execution_count": null,
   "metadata": {},
   "outputs": [],
   "source": [
    "model = RandomForestClassifier(random_state = 42)"
   ]
  },
  {
   "cell_type": "code",
   "execution_count": null,
   "metadata": {},
   "outputs": [],
   "source": [
    "from sklearn.model_selection import GridSearchCV\n",
    "\n",
    "CV_rfc = GridSearchCV(estimator=model, param_grid=param_grid, cv= 5)\n",
    "CV_rfc.fit(x, y)"
   ]
  },
  {
   "cell_type": "code",
   "execution_count": null,
   "metadata": {},
   "outputs": [],
   "source": [
    "CV_rfc.best_params_  # Подобрали оптимальные параметры"
   ]
  },
  {
   "cell_type": "code",
   "execution_count": null,
   "metadata": {},
   "outputs": [],
   "source": [
    "clf = RandomForestClassifier(random_state = 42, \n",
    "                               criterion = 'entropy',\n",
    "                               max_depth=6,\n",
    "                               max_features='auto',\n",
    "                               n_estimators=10)\n",
    "clf.fit(x, y)"
   ]
  },
  {
   "cell_type": "code",
   "execution_count": null,
   "metadata": {},
   "outputs": [],
   "source": [
    "plt.figure(figsize=(3,3))\n",
    "plt.bar(['Месяц', 'Час'], clf.feature_importances_)\n",
    "plt.xticks(rotation=45)"
   ]
  },
  {
   "cell_type": "markdown",
   "metadata": {},
   "source": [
    "### 8.\tРекомендации"
   ]
  },
  {
   "cell_type": "code",
   "execution_count": null,
   "metadata": {},
   "outputs": [],
   "source": [
    "#чтобы дать рекомендации, нам нужно будет вычислить любой индекс сходства вне косинусного сходства, \n",
    "#евклидово расстояние, расстояние Жаккара и т. д. Здесь мы собираемся использовать косинусное сходство.\n",
    "\n",
    "from sklearn.metrics.pairwise import cosine_similarity"
   ]
  },
  {
   "cell_type": "code",
   "execution_count": null,
   "metadata": {},
   "outputs": [],
   "source": [
    "# Список товаров\n",
    "item_list = list(df['Товар'].unique())\n",
    "len(item_list)"
   ]
  },
  {
   "cell_type": "code",
   "execution_count": null,
   "metadata": {},
   "outputs": [],
   "source": [
    "# Список покупателей\n",
    "customer_list = list(df['Клиент'].unique())\n",
    "len(customer_list)"
   ]
  },
  {
   "cell_type": "code",
   "execution_count": null,
   "metadata": {},
   "outputs": [],
   "source": [
    "# Считаем матрицу взаимодействия (строки - товары, столбцы - покупатели, на пересечении - \n",
    "# число раз, которое покупатель приобрел данных товар)\n",
    "\n",
    "item_customer_matrix = []\n",
    "for item in item_list:\n",
    "    item_customers_row = list(np.zeros(len(customer_list))) # Пустая строча покупателей, сначала нули\n",
    "    \n",
    "    item_customers = df[df['Товар'] == item]['Клиент'].values # Список покупателей для текущего товара (с повторениями)\n",
    "    for item_customer in item_customers: # Для каждой записи о покупке\n",
    "        item_customer_index = customer_list.index(item_customer)\n",
    "        item_customers_row[item_customer_index] += 1\n",
    "        \n",
    "    item_customer_matrix.append(item_customers_row)\n",
    "    \n",
    "item_customer_matrix = np.array(item_customer_matrix)    "
   ]
  },
  {
   "cell_type": "code",
   "execution_count": null,
   "metadata": {},
   "outputs": [],
   "source": [
    "item_customer_matrix.shape"
   ]
  },
  {
   "cell_type": "code",
   "execution_count": null,
   "metadata": {},
   "outputs": [],
   "source": [
    "from scipy import spatial\n",
    "\n",
    "# Поиск к ближайших соседей\n",
    "def get_similar_items(item_row, item_customer_matrix, k = 10):\n",
    "\n",
    "    item_item_similarity = np.array([])\n",
    "    for i in item_customer_matrix:\n",
    "        cos_distance = spatial.distance.cosine(item_row, i)\n",
    "        item_item_similarity = np.append(item_item_similarity, cos_distance)   \n",
    "        \n",
    "    nearest_items = []\n",
    "    while len(item_item_similarity) > 0 | len(nearest_items) < k:\n",
    "        ind = item_item_similarity.argmax()\n",
    "        el = item_list[ind]\n",
    "        item_item_similarity = np.delete(item_item_similarity, ind)\n",
    "        \n",
    "        if el not in nearest_items:\n",
    "            nearest_items.append(el)\n",
    "    return nearest_items[1:] # ближайший сосед - это сам элемент, его брать не будем\n",
    "\n",
    "\n",
    "def one_item_based_recommendations(item_number, item_customer_matrix, k = 10):\n",
    "    try:\n",
    "        item_id = item_list.index(item_number)\n",
    "    except:\n",
    "        return [] \n",
    "    items_to_recommend = get_similar_items(item_customer_matrix[item_id], item_customer_matrix, k + 1)\n",
    "    return items_to_recommend"
   ]
  },
  {
   "cell_type": "code",
   "execution_count": null,
   "metadata": {},
   "outputs": [],
   "source": [
    "# Поскольку в нашем датасете не особо много информации о товарах, зато есть история покупок, оптимальным вариантов будет\n",
    "# коллаборативная фильтрация\n",
    "\n",
    "# Коллаборативная фильтрация, основанная на товарах: \n",
    "# Берем все товары, купленные пользователем, ищем для них похожие\n",
    "# Можно рекомендовать те, что встретились чаще всего, или ориентироваться на дату - например, смотреть по самым последним\n",
    "# покупкам.\n",
    "# У нас будет сразу оба варианта)\n",
    "\n",
    "def item_based_recommendations(customer_number, item_customer_matrix, k = 10, by_time = False):\n",
    "    \n",
    "    customer_items = list(df[df['Клиент']==customer_number].sort_values(by=['Дата'])['Товар'].values)\n",
    "    items_to_recommend = []\n",
    "    \n",
    "    for customer_item in customer_items:\n",
    "        similar_items = one_item_based_recommendations(customer_item, item_customer_matrix, k)\n",
    "        items_to_recommend += similar_items \n",
    "        \n",
    "        if by_time is True:\n",
    "            if len(set(items_to_recommend)) >= k:\n",
    "                break\n",
    "        \n",
    "    return [i[0] for i in Counter(items_to_recommend).most_common(k)]"
   ]
  },
  {
   "cell_type": "code",
   "execution_count": null,
   "metadata": {},
   "outputs": [],
   "source": [
    "# Коллаборативная фильтрация по пользователям:\n",
    "# ищем пользователей с похожей историей покупок и рекомендуем то, что они покупали\n",
    "\n",
    "def customer_based_recommendations(customer_number, item_customer_matrix, k = 10):\n",
    "    try:\n",
    "        customer_id = customer_list.index(customer_number)\n",
    "    except:\n",
    "        return []   \n",
    "    \n",
    "    similar_customers = get_similar_items(item_customer_matrix[:,customer_id], \n",
    "                                          item_customer_matrix.transpose())\n",
    "    \n",
    "    items_to_recommend = []\n",
    "    for similar_customer in similar_customers: \n",
    "        items_to_recommend += list(df[df['Клиент'] == similar_customer]['Товар'].values)   \n",
    "    return [i[0] for i in Counter(items_to_recommend).most_common(k)]"
   ]
  },
  {
   "cell_type": "code",
   "execution_count": null,
   "metadata": {},
   "outputs": [],
   "source": []
  },
  {
   "cell_type": "code",
   "execution_count": null,
   "metadata": {},
   "outputs": [],
   "source": [
    "# Три вида рекомендаций для пользователя с id = 27\n",
    "\n",
    "items_by_customer = customer_based_recommendations(27, item_customer_matrix, k = 10)\n",
    "items_by_item_last = item_based_recommendations(27, item_customer_matrix, k = 10, by_time = False)\n",
    "items_by_item_last_period = item_based_recommendations(27, item_customer_matrix, k = 10, by_time = True)"
   ]
  },
  {
   "cell_type": "code",
   "execution_count": null,
   "metadata": {},
   "outputs": [],
   "source": [
    "print(items_by_customer)\n",
    "print(items_by_item_last)\n",
    "print(items_by_item_last_period)"
   ]
  },
  {
   "cell_type": "code",
   "execution_count": null,
   "metadata": {},
   "outputs": [],
   "source": []
  },
  {
   "cell_type": "markdown",
   "metadata": {},
   "source": [
    "## Вывод"
   ]
  },
  {
   "cell_type": "raw",
   "metadata": {},
   "source": [
    "- Месяц и особенно время дня влияют на частоту покупок\n",
    "- Но не очень сильно\n",
    "- Кластеризовать данные с фактически одним измерением (тк часы и месяцы практически однородны) возможно, хотя не особо полезно\n"
   ]
  }
 ],
 "metadata": {
  "kernelspec": {
   "display_name": "Python 3",
   "language": "python",
   "name": "python3"
  },
  "language_info": {
   "codemirror_mode": {
    "name": "ipython",
    "version": 3
   },
   "file_extension": ".py",
   "mimetype": "text/x-python",
   "name": "python",
   "nbconvert_exporter": "python",
   "pygments_lexer": "ipython3",
   "version": "3.7.3"
  }
 },
 "nbformat": 4,
 "nbformat_minor": 5
}
