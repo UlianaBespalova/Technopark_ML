{
 "cells": [
  {
   "cell_type": "markdown",
   "metadata": {},
   "source": [
    "# Персептрон и алгоритм обратного распространения ошибки.  "
   ]
  },
  {
   "cell_type": "markdown",
   "metadata": {},
   "source": [
    "Иллюстрация персептрона Mark 1 (1960).\n",
    "\n",
    "<img src=\"./imgs/0.png\">\n",
    "В качестве входных данных система использовала изображения символов английского алфавита, которые фокусировались при помощи примитивной системы камер, состоящей из массива кадмий-сульфидных фото-ячеек размером 20x20. Таким образом получалось простейшее 400-пиксельное изображение.   \n",
    "\n",
    "<img src=\"./imgs/1.png\">\n",
    "Машина так же обладала системой соединительных кабелей, которые позволяли передавать различные конфигурации входных сигналов на вход подсистеме обработки. Как правило, эти кабеля включались случайным образом - так демонстировалась возможность обучения персептрона без использования специальной настройки.\n",
    "\n",
    "<img src=\"./imgs/2.png\">\n",
    "На этой фотографии изображен \"мозг\" системы - несколько стоек с адаптивными весами. В качестве элементной базы адаптивных весов использовались вращающиеся резисторы с переменным сопротивлением, приводимые в движение электромоторами. Таким образом настраивались веса всей системы в соответствие с заранее заданной процедурой/алгоритмом обучения. \n",
    "\n",
    "<img src=\"./imgs/2.jpg\">\n",
    "The Mark 1 Perceptron (Source: Arvin Calspan Advanced Technology Center; Hecht-Nielsen, R. Neurocomputing (Reading, Mass.: Addison-Wesley, 1990).)"
   ]
  },
  {
   "cell_type": "markdown",
   "metadata": {},
   "source": [
    "## Задача многоклассовой классификации"
   ]
  },
  {
   "cell_type": "markdown",
   "metadata": {},
   "source": [
    "В качестве примера рассмотрим сегодня задачу классфикации на несколько классов с взаимосключающими метками.\n",
    "Постановка задачи:\n",
    "\n",
    "Дано: выборка примеров $\\{ x_1, ..., x_l\\} \\subset X;$\n",
    "\n",
    "$y_i = y(x_i) \\in \\{1,...,K\\}, i=1,...,l$ - известные ответы\n",
    "\n",
    "Найти: $a: X \\to Y$ - алгоритм, решающую функцию, приближающую $y$ на всем множестве объектов $X$.\n"
   ]
  },
  {
   "cell_type": "markdown",
   "metadata": {},
   "source": [
    "<img src=\"./imgs/13.png\" width=600>"
   ]
  },
  {
   "cell_type": "markdown",
   "metadata": {
    "collapsed": true
   },
   "source": [
    "# Нейросеть. Однослойный перцептрон."
   ]
  },
  {
   "cell_type": "markdown",
   "metadata": {
    "collapsed": true
   },
   "source": [
    "<img src=\"./imgs/3.png\" width=400>"
   ]
  },
  {
   "cell_type": "markdown",
   "metadata": {},
   "source": [
    "$$\n",
    "\\large\n",
    "\\large OUT(x) = softmax(D_2(\\vec{x})) \\\\\n",
    "\\large D_2(\\vec{x}) = \\theta_2 + W_2 A_1(\\vec{x}) \\\\\n",
    "\\large A_1(x) = max(0, D_1(\\vec{x})) \\\\\n",
    "\\large D_1(\\vec{x}) = \\theta_1 + W_1 \\vec{x}\n",
    "$$\n",
    "\n",
    "Каждая сеть представима в виде акцикличного графа вычислений над тензорами. **Тензор** - в случае нейронных сетей это просто многомерный массив. В узлах графа находятся функции, осуществляющие операции. В техминах нейронных сетей вычислительные узлы называют **слоями**. В данной сети есть слои следующих видов:\n",
    "- dense (D) - полносвязный слой\n",
    "- max(0,x) - слой нелинейной активации\n",
    "- softmax - слой обобщающий логистическую функцию для многомерного входа/выхода. \n",
    "- loss - функционал потерь, котороый тоже стоит рассматривать как слой.\n",
    "\n",
    "Обычно граф вычислений рисуется следующим образом"
   ]
  },
  {
   "cell_type": "markdown",
   "metadata": {},
   "source": [
    "<img src=\"./imgs/4.png\" width=700>"
   ]
  },
  {
   "cell_type": "markdown",
   "metadata": {},
   "source": [
    "Так как мы говорим про задачу многоклассовой классификации, то на выходе сети мы ожидаем набор вероятностей $p_j$, такие что $\\sum p_j = 1$. Для реализации этого используется softmax слой, физический смысл которого эквивалентен сигмойду в задаче бинарной классификации\n",
    "$$\n",
    "\\large softmax_i = p_i = \\frac{e^{a_i}}{\\sum_j e^{a_j}} \\\\\n",
    "$$"
   ]
  },
  {
   "cell_type": "markdown",
   "metadata": {},
   "source": [
    "# Loss функция"
   ]
  },
  {
   "cell_type": "markdown",
   "metadata": {},
   "source": [
    "Для того, чтобы получить loss функцию для нейронной сети, рассмотрим понятие перекрестной энтропии:\n",
    "$$\n",
    "\\large H(p, q) = \\operatorname{E}_p[-\\log q] = H(p) + D_{\\mathrm{KL}}(p \\| q)=-\\sum_x p(x)\\log q(x)\n",
    "$$\n",
    "где $D_{\\mathrm{KL}}(p||q)$ - расстояние Ку́льбака—Ле́йблера\n",
    "$$\n",
    "\\large D_{\\mathrm{KL}}(p||q)=\\sum \\limits _{i=1}^{n}p_{i}\\log {\\frac {p_{i}}{q_{i}}}\n",
    "$$\n",
    "Значение этого функционала можно понимать как количество неучтённой информации распределения $P$, если $Q$ было использовано для приближения $P$.\n",
    "\n",
    "Можно показать, что оптимизация кросс-энтропии в задаче многоклассовой оптимизации эквивалентно оптимизации правдоподобия.  Таким образом, loss для нашей сети будет:\n",
    "$$\n",
    "\\large L = -\\sum_i y_i \\log \\hat{y}_i\n",
    "$$"
   ]
  },
  {
   "cell_type": "markdown",
   "metadata": {},
   "source": [
    "# Концепция автоматического дифференцирования"
   ]
  },
  {
   "cell_type": "markdown",
   "metadata": {},
   "source": [
    "Давайте переместимся в слайды )\n",
    "<img src=\"./imgs/5.png\" width=700>"
   ]
  },
  {
   "cell_type": "markdown",
   "metadata": {},
   "source": [
    "# Обучаем персептрон"
   ]
  },
  {
   "cell_type": "markdown",
   "metadata": {},
   "source": [
    "Задача: нужно реализовать двухслойный персептрон и обучить его на наборе MNIST"
   ]
  },
  {
   "cell_type": "code",
   "execution_count": 2,
   "metadata": {},
   "outputs": [],
   "source": [
    "import numpy as np\n",
    "import matplotlib.pyplot as plt\n",
    "%matplotlib inline"
   ]
  },
  {
   "cell_type": "markdown",
   "metadata": {},
   "source": [
    "### TODO: Полносвязный слой"
   ]
  },
  {
   "cell_type": "code",
   "execution_count": 3,
   "metadata": {},
   "outputs": [],
   "source": [
    "class Dense:\n",
    "    def __init__(self, in_size, out_size):\n",
    "        np.random.seed(1)\n",
    "        self.W = np.random.normal(scale=0.1, size=(out_size, in_size))\n",
    "        self.b = np.random.normal(scale=0.1, size=(out_size))\n",
    "        \n",
    "    def forward(self, x):\n",
    "        self.x = x # запоминаем для обратного прохода\n",
    "        return np.dot(self.W, x) + self.b\n",
    "    \n",
    "    def backward(self, dz, lr=0.001):\n",
    "        # вычисляем градиенты по параметрам (запоминаем их для отладки)\n",
    "        self.dW = np.outer(dz, self.x)\n",
    "        self.db = dz\n",
    "        # вычисляем производную по входу\n",
    "        self.dx = np.matmul(dz, self.W) \n",
    "        # обновляем веса\n",
    "        self.W = self.W - lr * self.dW\n",
    "        self.db = self.db - lr * self.db\n",
    "        # возвращаем dx для продолжения алгоритма\n",
    "        return self.dx"
   ]
  },
  {
   "cell_type": "markdown",
   "metadata": {},
   "source": [
    "Проверяем используя пример из слайдов"
   ]
  },
  {
   "cell_type": "code",
   "execution_count": 4,
   "metadata": {},
   "outputs": [
    {
     "name": "stdout",
     "output_type": "stream",
     "text": [
      "z =  [1.22 0.76] must be [1.22 0.76] diff =  [0. 0.]\n",
      "dx =  [-0.112  0.636] must be [-0.112  0.636] diff =  [1.38777878e-17 0.00000000e+00]\n",
      "W\n",
      " [[ 0.099912  0.499824]\n",
      " [-0.300104  0.799792]]\n",
      "dW:\n",
      " [[0.088 0.176]\n",
      " [0.104 0.208]]\n",
      "db:\n",
      " [0.43956 0.51948]\n",
      "dx:\n",
      " [-0.112  0.636]\n"
     ]
    }
   ],
   "source": [
    "d = Dense(2, 2)\n",
    "x = np.array([0.2, 0.4])\n",
    "d.W = np.array([[0.1, 0.5], [-0.3, 0.8]])\n",
    "d.b = np.array([1, 0.5])\n",
    "dz = np.array([0.44, 0.52])\n",
    "\n",
    "z = d.forward(x)\n",
    "z_orig = np.array([1.22, 0.76])\n",
    "print('z = ',z, 'must be', z_orig, 'diff = ', z-z_orig)\n",
    "\n",
    "dx = d.backward(dz)\n",
    "dx_orig = np.array([-0.112, 0.636])\n",
    "print('dx = ', dx, 'must be', dx_orig, 'diff = ', dx-dx_orig)\n",
    "\n",
    "print('W\\n', d.W)\n",
    "print('dW:\\n', d.dW)\n",
    "print('db:\\n', d.db)\n",
    "print('dx:\\n', d.dx)"
   ]
  },
  {
   "cell_type": "markdown",
   "metadata": {},
   "source": [
    "В слайдах у нас вход и выход слоя имеют одинаковую размерность. Давайте проверим, что для разных размеров все считается правильно."
   ]
  },
  {
   "cell_type": "code",
   "execution_count": 5,
   "metadata": {},
   "outputs": [
    {
     "name": "stdout",
     "output_type": "stream",
     "text": [
      "(2,) must be (2,)\n",
      "(3,) must be (3,)\n"
     ]
    }
   ],
   "source": [
    "# Проверяем, что размерности соблюдаются правильно\n",
    "d = Dense(3, 2)\n",
    "x = np.array([0.1, 0.2, 0.3])\n",
    "r = d.forward(x)\n",
    "print(r.shape, 'must be', (2,))\n",
    "dz = np.array([0.4, 0.5])\n",
    "dz = d.backward(dz)\n",
    "print(dz.shape, 'must be', (3,))"
   ]
  },
  {
   "cell_type": "markdown",
   "metadata": {},
   "source": [
    "### Нелинейная функция активации: ReLu"
   ]
  },
  {
   "cell_type": "markdown",
   "metadata": {},
   "source": [
    "$$\n",
    "ReLu = max(0, Dense(x))\n",
    "$$"
   ]
  },
  {
   "cell_type": "code",
   "execution_count": 6,
   "metadata": {},
   "outputs": [],
   "source": [
    "class Max:\n",
    "    \n",
    "    def forward(self, x):\n",
    "        self.x = x\n",
    "        return np.maximum(0, x)\n",
    "    \n",
    "    def backward(self, dz, lr=0.1):\n",
    "        dz[self.x < 0] = 0\n",
    "        return dz"
   ]
  },
  {
   "cell_type": "markdown",
   "metadata": {},
   "source": [
    "### Softmax"
   ]
  },
  {
   "cell_type": "markdown",
   "metadata": {},
   "source": [
    "Бонус-треком можете реализовать вычисление softmax слоя\n",
    "\n",
    "$$\n",
    "\\frac {\\partial }{\\partial x_{k}}\\sigma_i (x) =\\sigma_i (x)(\\delta _{ik}-\\sigma_k (x))\n",
    "$$\n",
    "где $\\delta _{ik}$ это дельта Кронекера\n",
    "$$\n",
    "\\delta _{{ij}}={\\begin{cases}0&{\\text{if }}i\\neq j,\\\\1&{\\text{if }}i=j.\\end{cases}}\n",
    "$$"
   ]
  },
  {
   "cell_type": "code",
   "execution_count": 7,
   "metadata": {},
   "outputs": [],
   "source": [
    "class Softmax:\n",
    "    \n",
    "    def forward(self, x):\n",
    "        self.x = x\n",
    "        exps = np.exp(x)\n",
    "        return exps / np.sum(exps)\n",
    "    \n",
    "    def backward(self, dz, lr=0.001):\n",
    "        sm = self.forward(self.x)\n",
    "        self.lp = (np.eye(sm.shape[0], sm.shape[0]) - sm).T\n",
    "        self.lp2 = sm * self.lp\n",
    "        return np.dot(dz, self.lp2)"
   ]
  },
  {
   "cell_type": "code",
   "execution_count": 7,
   "metadata": {},
   "outputs": [
    {
     "name": "stdout",
     "output_type": "stream",
     "text": [
      "[ 0.5005  0.4995]\n",
      "dz [ 0.4999995 -0.4999995]\n",
      "[[ 0.4995 -0.5005]\n",
      " [-0.4995  0.5005]]\n",
      "[[ 0.24999975 -0.24999975]\n",
      " [-0.24999975  0.24999975]]\n"
     ]
    }
   ],
   "source": [
    "# Код для проверки\n",
    "x = np.array([0.001, -0.001])\n",
    "s = Softmax()\n",
    "sm = s.forward(x)\n",
    "print(sm)\n",
    "dz = np.array([0, -2.])\n",
    "print('dz', s.backward(dz))\n",
    "print(s.lp)\n",
    "print(s.lp2)"
   ]
  },
  {
   "cell_type": "markdown",
   "metadata": {},
   "source": [
    "### Loss: кросс-энтропия"
   ]
  },
  {
   "cell_type": "markdown",
   "metadata": {},
   "source": [
    "Напомню, кросс-энтропия выражается как\n",
    "$$\n",
    "L = -\\sum_i y_i \\log \\hat{y}_i\n",
    "$$\n",
    "\n",
    "Градиент вычисляется следующим образом:\n",
    "$$\n",
    "\\frac {\\partial }{\\partial \\hat{y}_{i}} L = -\\frac{y_i}{\\hat{y}_i}\n",
    "$$"
   ]
  },
  {
   "cell_type": "code",
   "execution_count": 8,
   "metadata": {},
   "outputs": [],
   "source": [
    "class CrossEntropy:\n",
    "    \n",
    "    def forward(self, y_true, y_hat):\n",
    "        self.y_true = y_true\n",
    "        self.y_hat = y_hat\n",
    "        return -np.sum( y_true * np.log(y_hat))\n",
    "    \n",
    "    def backward(self, dz, lr=0.001):\n",
    "        return dz * -1. * self.y_true / self.y_hat"
   ]
  },
  {
   "cell_type": "markdown",
   "metadata": {},
   "source": [
    "# Тест 0 - самая тупая сеть\n",
    "\n",
    "Строим функцию $f(x)=x$"
   ]
  },
  {
   "cell_type": "code",
   "execution_count": 9,
   "metadata": {},
   "outputs": [],
   "source": [
    "X = np.array([[1., 0],\n",
    "              [0,  1.]])\n",
    "Y = np.array([[1., 0],\n",
    "              [0,  1.]])"
   ]
  },
  {
   "cell_type": "code",
   "execution_count": 10,
   "metadata": {},
   "outputs": [],
   "source": [
    "class IdentityNet:\n",
    "    \n",
    "    def __init__(self):\n",
    "        self.d = Dense(2, 2)\n",
    "        self.s = Softmax()\n",
    "        \n",
    "    def forward(self, x):\n",
    "        self.x = x\n",
    "        net = self.d.forward(x)\n",
    "        net = self.s.forward(net)\n",
    "        return net\n",
    "    \n",
    "    def backward(self, dz, lr=0.001):\n",
    "        dz = self.s.backward(dz, lr)\n",
    "        dz = self.d.backward(dz, lr)\n",
    "        return dz"
   ]
  },
  {
   "cell_type": "code",
   "execution_count": 11,
   "metadata": {},
   "outputs": [],
   "source": [
    "net = IdentityNet()\n",
    "L_iter = []"
   ]
  },
  {
   "cell_type": "code",
   "execution_count": 12,
   "metadata": {},
   "outputs": [
    {
     "name": "stdout",
     "output_type": "stream",
     "text": [
      "[0.95114643 0.04885357] [0.05347249 0.94652751]\n"
     ]
    },
    {
     "data": {
      "image/png": "[encoded data removed]",
      "text/plain": [
       "<Figure size 432x288 with 1 Axes>"
      ]
     },
     "metadata": {
      "needs_background": "light"
     },
     "output_type": "display_data"
    }
   ],
   "source": [
    "# Инициализируем loss, его удобнее хранить в теле обучения\n",
    "loss = CrossEntropy() \n",
    "lr = 0.1 # скорость обучения\n",
    "for iter in range(100): # эпохи = полный проход по датасету\n",
    "    L_acc = 0.\n",
    "    for i in range(X.shape[0]):\n",
    "        x = X[i]\n",
    "        y = Y[i]\n",
    "        y_h = net.forward(x)\n",
    "        L = loss.forward(y, net.forward(x))\n",
    "        L_acc += L\n",
    "        dz = loss.backward(1, lr)\n",
    "        net.backward(dz, lr)\n",
    "    L_iter.append(L_acc) # коллекционируем loss\n",
    "plt.plot(L_iter) # посмотрим на кривую обучения\n",
    "print( net.forward(X[0]), net.forward(X[1])) # проверим глазами, что обучились"
   ]
  },
  {
   "cell_type": "markdown",
   "metadata": {},
   "source": [
    "# Тест 1 - XOR\n",
    "\n",
    "<img src=\"./imgs/10.png\" width=200>"
   ]
  },
  {
   "cell_type": "code",
   "execution_count": 13,
   "metadata": {},
   "outputs": [],
   "source": [
    "X = np.array([[-1, -1],\n",
    "              [1, -1],\n",
    "              [-1, 1],\n",
    "              [1, 1]], dtype='float')\n",
    "\n",
    "Y = np.array([[1, 0],\n",
    "              [0, 1],\n",
    "              [0, 1],\n",
    "              [1, 0]], dtype='float')\n"
   ]
  },
  {
   "cell_type": "code",
   "execution_count": 14,
   "metadata": {},
   "outputs": [],
   "source": [
    "class XorNet:\n",
    "    \n",
    "    def __init__(self):\n",
    "        self.d1 = Dense(2, 10)\n",
    "        self.a1 = Max()\n",
    "        self.d2 = Dense(10, 2)\n",
    "        self.sm = Softmax()\n",
    "        \n",
    "    def forward(self, x):\n",
    "        net = self.d1.forward(x)\n",
    "        net = self.a1.forward(net)\n",
    "        net = self.d2.forward(net)\n",
    "        net = self.sm.forward(net)\n",
    "        self.net = net\n",
    "        return net\n",
    "    \n",
    "    def backward(self, dz, lr=0.1):\n",
    "        dz = self.sm.backward(dz, lr)\n",
    "        dz = self.d2.backward(dz, lr)\n",
    "        dz = self.a1.backward(dz, lr)\n",
    "        dz = self.d1.backward(dz, lr)\n",
    "        return dz\n",
    "        "
   ]
  },
  {
   "cell_type": "code",
   "execution_count": 15,
   "metadata": {},
   "outputs": [],
   "source": [
    "net = XorNet()"
   ]
  },
  {
   "cell_type": "code",
   "execution_count": 16,
   "metadata": {},
   "outputs": [
    {
     "name": "stdout",
     "output_type": "stream",
     "text": [
      "[0.99169998 0.00830002] [1. 0.]\n",
      "[0.00953793 0.99046207] [0. 1.]\n",
      "[0.01524403 0.98475597] [0. 1.]\n",
      "[0.98368023 0.01631977] [1. 0.]\n"
     ]
    },
    {
     "data": {
      "image/png": "[encoded data removed]",
      "text/plain": [
       "<Figure size 432x288 with 1 Axes>"
      ]
     },
     "metadata": {
      "needs_background": "light"
     },
     "output_type": "display_data"
    }
   ],
   "source": [
    "loss = CrossEntropy()\n",
    "lr = 0.1\n",
    "L_iter = []\n",
    "for iter in range(100):\n",
    "    L_acc = 0.\n",
    "    for i in range(X.shape[0]):\n",
    "        x = X[i]\n",
    "        y = Y[i]\n",
    "        y_h = net.forward(x)\n",
    "        L = loss.forward(y, y_h)\n",
    "        L_acc += L\n",
    "        dz = loss.backward(1, lr)\n",
    "        dz = net.backward(dz, lr)\n",
    "    L_iter.append(L_acc)\n",
    "plt.plot(L_iter)\n",
    "for i in range(4):\n",
    "    print(net.forward(X[i]), Y[i])"
   ]
  },
  {
   "cell_type": "markdown",
   "metadata": {},
   "source": [
    "# Тест 3 - MNIST"
   ]
  },
  {
   "cell_type": "code",
   "execution_count": 72,
   "metadata": {},
   "outputs": [
    {
     "name": "stdout",
     "output_type": "stream",
     "text": [
      "(70000, 784)\n"
     ]
    }
   ],
   "source": [
    "from sklearn.datasets import fetch_openml\n",
    "X, Y = fetch_openml('mnist_784', version=1, cache=True, return_X_y=True, as_frame=False)\n",
    "print(X.shape)"
   ]
  },
  {
   "cell_type": "code",
   "execution_count": 73,
   "metadata": {},
   "outputs": [
    {
     "data": {
      "image/png": "[encoded data removed]",
      "text/plain": [
       "<Figure size 432x288 with 16 Axes>"
      ]
     },
     "metadata": {
      "needs_background": "light"
     },
     "output_type": "display_data"
    }
   ],
   "source": [
    "n=4\n",
    "for i in range(n*n):\n",
    "    plt.subplot(n,n,i+1)\n",
    "    I = X[np.random.randint(0, X.shape[0]), :]\n",
    "    I = I.reshape((28, 28))\n",
    "    plt.imshow(I, cmap='gray')"
   ]
  },
  {
   "cell_type": "code",
   "execution_count": 74,
   "metadata": {},
   "outputs": [
    {
     "data": {
      "text/plain": [
       "[<matplotlib.lines.Line2D at 0x2a0f58be0>]"
      ]
     },
     "execution_count": 74,
     "metadata": {},
     "output_type": "execute_result"
    },
    {
     "data": {
      "image/png": "[encoded data removed]",
      "text/plain": [
       "<Figure size 432x288 with 1 Axes>"
      ]
     },
     "metadata": {
      "needs_background": "light"
     },
     "output_type": "display_data"
    },
    {
     "data": {
      "image/png": "[encoded data removed]",
      "text/plain": [
       "<Figure size 432x288 with 1 Axes>"
      ]
     },
     "metadata": {
      "needs_background": "light"
     },
     "output_type": "display_data"
    }
   ],
   "source": [
    "X = X.astype('float')\n",
    "Xm = np.mean(X, axis=0)\n",
    "Xs = np.std(X, axis=0)\n",
    "X=(X - Xm) / (Xs + 0.0001)\n",
    "plt.imshow(Xm.reshape((28, 28)))\n",
    "plt.figure()\n",
    "plt.plot(X[0].reshape((28, 28))[14])"
   ]
  },
  {
   "cell_type": "code",
   "execution_count": 75,
   "metadata": {},
   "outputs": [
    {
     "name": "stdout",
     "output_type": "stream",
     "text": [
      "original ['5' '0' '4' ... '4' '5' '6']\n",
      "one hot [[0. 0. 0. ... 0. 0. 0.]\n",
      " [1. 0. 0. ... 0. 0. 0.]\n",
      " [0. 0. 0. ... 0. 0. 0.]\n",
      " ...\n",
      " [0. 0. 0. ... 0. 0. 0.]\n",
      " [0. 0. 0. ... 0. 0. 0.]\n",
      " [0. 0. 0. ... 0. 0. 0.]]\n"
     ]
    }
   ],
   "source": [
    "from sklearn.preprocessing import OneHotEncoder\n",
    "\n",
    "Y_orig = Y\n",
    "print('original', Y_orig)\n",
    "t = OneHotEncoder(sparse=False)\n",
    "Y_tr = t.fit_transform(Y.reshape(-1, 1))\n",
    "print('one hot', Y_tr)"
   ]
  },
  {
   "cell_type": "code",
   "execution_count": 115,
   "metadata": {},
   "outputs": [],
   "source": [
    "class MnistNet:\n",
    "    \n",
    "    def __init__(self):\n",
    "        self.d = Dense(784, 10)\n",
    "        self.s = Softmax()\n",
    "        \n",
    "    def forward(self, x):\n",
    "        net = self.d.forward(x)\n",
    "        net = self.s.forward(net)\n",
    "        return net\n",
    "    \n",
    "    def backward(self, dz, lr):\n",
    "        dz = self.s.backward(dz, lr)\n",
    "        dz = self.d.backward(dz, lr)\n",
    "        return dz"
   ]
  },
  {
   "cell_type": "code",
   "execution_count": 116,
   "metadata": {},
   "outputs": [],
   "source": [
    "net = MnistNet()"
   ]
  },
  {
   "cell_type": "code",
   "execution_count": 129,
   "metadata": {
    "scrolled": false
   },
   "outputs": [
    {
     "data": {
      "application/vnd.jupyter.widget-view+json": {
       "model_id": "7300a6fd74eb4d70bf9caccbc56d50dd",
       "version_major": 2,
       "version_minor": 0
      },
      "text/plain": [
       "  0%|          | 0/20 [00:00<?, ?it/s]"
      ]
     },
     "metadata": {},
     "output_type": "display_data"
    },
    {
     "name": "stdout",
     "output_type": "stream",
     "text": [
      "0.2926839440814911\n",
      "0.2931786313938223\n",
      "0.29282142846948706\n",
      "0.288951984081906\n",
      "0.2894804846769272\n",
      "0.29122931145703734\n",
      "0.29522783080772663\n",
      "0.2866232639122725\n",
      "0.29077397662224375\n",
      "0.2873786979029457\n",
      "0.28736317286683016\n",
      "0.28564940599845157\n",
      "0.2882580730988483\n",
      "0.28368073630722096\n",
      "0.28806667182083806\n",
      "0.2866897468804188\n",
      "0.29315707649280104\n",
      "0.2870667085634517\n",
      "0.28952447086870614\n",
      "0.28643528428778176\n"
     ]
    },
    {
     "data": {
      "text/plain": [
       "[<matplotlib.lines.Line2D at 0x2a296fd00>]"
      ]
     },
     "execution_count": 129,
     "metadata": {},
     "output_type": "execute_result"
    },
    {
     "data": {
      "image/png": "[encoded data removed]",
      "text/plain": [
       "<Figure size 432x288 with 1 Axes>"
      ]
     },
     "metadata": {
      "needs_background": "light"
     },
     "output_type": "display_data"
    }
   ],
   "source": [
    "from tqdm.auto import tqdm\n",
    "\n",
    "loss = CrossEntropy()\n",
    "lr = 0.002\n",
    "L_iter = []\n",
    "for iter in tqdm(range(20)):\n",
    "    L_acc = 0.\n",
    "    sh = list(range(X.shape[0])) # больше рандома богу рандома\n",
    "    np.random.shuffle(sh)\n",
    "    for i in range(X.shape[0]):\n",
    "        x = X[sh[i]]\n",
    "        y = Y_tr[sh[i]]\n",
    "        y_h = net.forward(x)\n",
    "        L = loss.forward(y, y_h)\n",
    "        L_acc += L\n",
    "        dz = loss.backward(1, lr)\n",
    "        dz = net.backward(dz, lr)\n",
    "    print(L_acc / X.shape[0])\n",
    "    L_iter.append(L_acc / X.shape[0])\n",
    "plt.plot(L_iter)"
   ]
  },
  {
   "cell_type": "code",
   "execution_count": 130,
   "metadata": {},
   "outputs": [
    {
     "data": {
      "image/png": "[encoded data removed]",
      "text/plain": [
       "<Figure size 432x432 with 9 Axes>"
      ]
     },
     "metadata": {
      "needs_background": "light"
     },
     "output_type": "display_data"
    }
   ],
   "source": [
    "plt.figure(figsize=(6,6))\n",
    "\n",
    "sh = list(range(X.shape[0]))\n",
    "np.random.shuffle(sh)\n",
    "\n",
    "n = 3\n",
    "for i in range(n*n):\n",
    "    ax = plt.subplot(n, n, i+1)\n",
    "\n",
    "    j = sh[i]\n",
    "    R = np.argmax(Y_tr[j])\n",
    "    P = net.forward(X[j])\n",
    "    Rp = np.argmax(P)\n",
    "\n",
    "    ax.set_title('%s = %.2f R:%s' % (Rp, P[Rp], R))\n",
    "    ax.set_axis_off()\n",
    "    plt.imshow(X[j].reshape((28, 28)))\n"
   ]
  },
  {
   "cell_type": "code",
   "execution_count": 131,
   "metadata": {},
   "outputs": [
    {
     "data": {
      "image/png": "[encoded data removed]",
      "text/plain": [
       "<Figure size 432x432 with 9 Axes>"
      ]
     },
     "metadata": {
      "needs_background": "light"
     },
     "output_type": "display_data"
    }
   ],
   "source": [
    "plt.figure(figsize=(6,6))\n",
    "\n",
    "n = 3\n",
    "for i in range(1, 10):\n",
    "    ax = plt.subplot(n, n, i)\n",
    "    ax.set_title('%s' % i)\n",
    "    ax.set_axis_off()\n",
    "    plt.imshow( net.d.W[i].reshape((28, 28)).T, cmap='gray' )"
   ]
  },
  {
   "cell_type": "markdown",
   "metadata": {},
   "source": [
    "# Pytorch. Autograd.\n",
    "\n",
    "Переходим в другой ноутбук."
   ]
  },
  {
   "cell_type": "markdown",
   "metadata": {},
   "source": [
    "# Чеклист"
   ]
  },
  {
   "cell_type": "markdown",
   "metadata": {},
   "source": [
    "- устройство многослойного персептрона\n",
    "- слои: полносвязный, ReLu, Softmax, CrossEntropy\n",
    "- chain rule\n",
    "- правило дифференцирования сложной функции\n",
    "- алгоритм обратного распространения ошибки\n",
    "- почему при обучении сеть потребляет больше памяти, чем при выводе"
   ]
  },
  {
   "cell_type": "markdown",
   "metadata": {},
   "source": [
    "# Почитать"
   ]
  },
  {
   "cell_type": "markdown",
   "metadata": {},
   "source": [
    "Backprop: лекция в cs231n\n",
    "- почитать: http://cs231n.github.io/optimization-2/\n",
    "- посмотреть: https://www.youtube.com/watch?v=d14TUNcbn1k"
   ]
  },
  {
   "cell_type": "code",
   "execution_count": null,
   "metadata": {},
   "outputs": [],
   "source": []
  }
 ],
 "metadata": {
  "kernelspec": {
   "display_name": "Python 3 (ipykernel)",
   "language": "python",
   "name": "python3"
  },
  "language_info": {
   "codemirror_mode": {
    "name": "ipython",
    "version": 3
   },
   "file_extension": ".py",
   "mimetype": "text/x-python",
   "name": "python",
   "nbconvert_exporter": "python",
   "pygments_lexer": "ipython3",
   "version": "3.9.10"
  }
 },
 "nbformat": 4,
 "nbformat_minor": 2
}
