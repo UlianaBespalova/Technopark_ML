{
 "cells": [
  {
   "cell_type": "code",
   "execution_count": 1,
   "metadata": {
    "collapsed": true
   },
   "outputs": [],
   "source": [
    "import sys"
   ]
  },
  {
   "cell_type": "markdown",
   "metadata": {},
   "source": [
    "# <font size=10 color=blue> Влияние глубокого обучения на выделение объектов </font>\n",
    "![Segmentation](./img/Detection01.png)"
   ]
  },
  {
   "cell_type": "markdown",
   "metadata": {},
   "source": [
    "\n",
    "![Segmentation](./img/Detection02.png)\n",
    "\n",
    "<font color=blue size=5>Проблема:  объектов на картинке много. Что можно сделать?</font>"
   ]
  },
  {
   "cell_type": "markdown",
   "metadata": {},
   "source": [
    "# <font size=10 color=blue> Region Proposals (RoI - Region of Interest) </font>\n",
    "\n",
    "- Можно найти регионы, на которых наиболее вероятно есть объекты\n",
    "- Методы, которые находять такие ригионы известны, например, Selective Search. Дает 1000 region proposals за несколько seconds на CPU\n",
    "![Segmentation](./img/Detection03.png)\n"
   ]
  },
  {
   "cell_type": "markdown",
   "metadata": {},
   "source": [
    "# <font size=10 color=blue> R-CNN </font>\n",
    "![Segmentation](./img/Detection04.png)\n",
    " * Каждый регион прогоняем через обученную сеть\n",
    " * Вытаскиваем фичи\n",
    " * На фичах обучаем классификатор\n",
    " * И регрессию на \"Bounding box\"\n",
    " \n",
    " ---\n",
    " * Медленное обучение\n",
    " * Много места на диске\n",
    " * Медленное предсказание\n",
    " \n",
    " --- \n",
    " <font size=5 color=blue>Решение: делать все за один проход</font>"
   ]
  },
  {
   "cell_type": "markdown",
   "metadata": {},
   "source": [
    "# <font size=10 color=blue> Fast R-CNN </font>\n",
    "![Segmentation](./img/Detection05.png)\n",
    "* Подаем картинку и RoI  в одном батче в сеть\n",
    "* На последнем конволюционном слое делим фичемапу nxn (7x7) областей\n",
    "* С каждой области делаем Max Pooling (Avg Pooling) - получаем RoI pool для каждой картинки\n",
    "* Пропускаем пул через линейный слой + Softmax и линейный слой + регрессия для \"Bounding Box\" - получаем сумму лосов "
   ]
  },
  {
   "cell_type": "markdown",
   "metadata": {},
   "source": [
    "## Время предсказания с учетом и без учета нахождения Region Proposals\n",
    "![Segmentation](./img/Detection06.png)"
   ]
  },
  {
   "cell_type": "markdown",
   "metadata": {},
   "source": [
    "# <font size=10 color=blue> Faster R-CNN </font>\n",
    "![Segmentation](./img/Detection07.png)\n",
    "### Совместно тренируем четыре лоса\n",
    "1. RPN Классификатор объект или нет\n",
    "2. RPN координаты regress box\n",
    "3. Финальный классификатор объектов\n",
    "4. Финальные координаты боксов"
   ]
  },
  {
   "cell_type": "markdown",
   "metadata": {},
   "source": [
    "![Segmentation](./img/Detection12.png)"
   ]
  },
  {
   "cell_type": "markdown",
   "metadata": {
    "collapsed": true
   },
   "source": [
    "# <font size=10 color=blue> Instance Segmentation </font>\n",
    "---"
   ]
  },
  {
   "cell_type": "markdown",
   "metadata": {},
   "source": [
    "# <font size=10 color=blue> Mask R-CNN </font>\n",
    "![Segmentation](./img/Detection08.png)"
   ]
  },
  {
   "cell_type": "markdown",
   "metadata": {},
   "source": [
    "# В действии\n",
    "![Segmentation](./img/Detection09.png)"
   ]
  },
  {
   "cell_type": "markdown",
   "metadata": {},
   "source": [
    "# Mask R-CNN для определения поз\n",
    "![Segmentation](./img/Detection10.png)"
   ]
  },
  {
   "cell_type": "markdown",
   "metadata": {},
   "source": [
    "# Mask R-CNN для определения поз примеры\n",
    "![Segmentation](./img/Detection11.png)"
   ]
  },
  {
   "cell_type": "code",
   "execution_count": null,
   "metadata": {
    "collapsed": true
   },
   "outputs": [],
   "source": []
  }
 ],
 "metadata": {
  "anaconda-cloud": {},
  "kernelspec": {
   "display_name": "Python 3",
   "language": "python",
   "name": "python3"
  },
  "language_info": {
   "codemirror_mode": {
    "name": "ipython",
    "version": 3
   },
   "file_extension": ".py",
   "mimetype": "text/x-python",
   "name": "python",
   "nbconvert_exporter": "python",
   "pygments_lexer": "ipython3",
   "version": "3.6.1"
  }
 },
 "nbformat": 4,
 "nbformat_minor": 2
}
